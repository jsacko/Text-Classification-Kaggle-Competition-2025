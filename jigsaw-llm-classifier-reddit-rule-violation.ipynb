{
 "cells": [
  {
   "cell_type": "code",
   "execution_count": 1,
   "id": "d7fcb77a",
   "metadata": {
    "execution": {
     "iopub.execute_input": "2025-08-26T05:17:29.095508Z",
     "iopub.status.busy": "2025-08-26T05:17:29.095236Z",
     "iopub.status.idle": "2025-08-26T05:17:29.099672Z",
     "shell.execute_reply": "2025-08-26T05:17:29.098724Z"
    },
    "papermill": {
     "duration": 0.014606,
     "end_time": "2025-08-26T05:17:29.101089",
     "exception": false,
     "start_time": "2025-08-26T05:17:29.086483",
     "status": "completed"
    },
    "tags": []
   },
   "outputs": [],
   "source": [
    "# !pip install datasets"
   ]
  },
  {
   "cell_type": "code",
   "execution_count": 2,
   "id": "6c332b4e",
   "metadata": {
    "_cell_guid": "b1076dfc-b9ad-4769-8c92-a6c4dae69d19",
    "_uuid": "8f2839f25d086af736a60e9eeb907d3b93b6e0e5",
    "execution": {
     "iopub.execute_input": "2025-08-26T05:17:29.115424Z",
     "iopub.status.busy": "2025-08-26T05:17:29.115144Z",
     "iopub.status.idle": "2025-08-26T05:17:59.907468Z",
     "shell.execute_reply": "2025-08-26T05:17:59.906774Z"
    },
    "papermill": {
     "duration": 30.807538,
     "end_time": "2025-08-26T05:17:59.915654",
     "exception": false,
     "start_time": "2025-08-26T05:17:29.108116",
     "status": "completed"
    },
    "tags": []
   },
   "outputs": [
    {
     "name": "stderr",
     "output_type": "stream",
     "text": [
      "2025-08-26 05:17:45.686777: E external/local_xla/xla/stream_executor/cuda/cuda_fft.cc:477] Unable to register cuFFT factory: Attempting to register factory for plugin cuFFT when one has already been registered\n",
      "WARNING: All log messages before absl::InitializeLog() is called are written to STDERR\n",
      "E0000 00:00:1756185465.853073      18 cuda_dnn.cc:8310] Unable to register cuDNN factory: Attempting to register factory for plugin cuDNN when one has already been registered\n",
      "E0000 00:00:1756185465.902715      18 cuda_blas.cc:1418] Unable to register cuBLAS factory: Attempting to register factory for plugin cuBLAS when one has already been registered\n"
     ]
    },
    {
     "name": "stdout",
     "output_type": "stream",
     "text": [
      "Setup complete\n"
     ]
    }
   ],
   "source": [
    "# This Python 3 environment comes with many helpful analytics libraries installed\n",
    "# It is defined by the kaggle/python Docker image: https://github.com/kaggle/docker-python\n",
    "# For example, here's several helpful packages to load\n",
    "# Plotly imports\n",
    "import plotly.offline as py\n",
    "import plotly.graph_objs as go\n",
    "import plotly.tools as tls\n",
    "\n",
    "# Other imports\n",
    "from collections import Counter\n",
    "from sklearn.feature_extraction.text import TfidfVectorizer, CountVectorizer\n",
    "from sklearn.decomposition import NMF, LatentDirichletAllocation\n",
    "from matplotlib import pyplot as plt\n",
    "from wordcloud import WordCloud ,STOPWORDS\n",
    "from nltk.corpus import stopwords\n",
    "from PIL import Image\n",
    "from transformers import AutoTokenizer, AutoModelForSequenceClassification, TrainingArguments, Trainer\n",
    "import tensorflow as tf\n",
    "from sklearn.metrics import roc_auc_score, roc_curve\n",
    "import torch\n",
    "from torch.utils.data import DataLoader, TensorDataset\n",
    "from sklearn.model_selection import train_test_split, StratifiedGroupKFold\n",
    "from torch.optim import AdamW\n",
    "from datasets import Dataset,DatasetDict, concatenate_datasets\n",
    "import numpy as np # linear algebra\n",
    "import pandas as pd # data processing, CSV file I/O (e.g. pd.read_csv)\n",
    "from kaggle_secrets import UserSecretsClient\n",
    "# Input data files are available in the read-only \"../input/\" directory\n",
    "# For example, running this (by clicking run or pressing Shift+Enter) will list all files under the input directory\n",
    "import os\n",
    "# for dirname, _, filenames in os.walk('/kaggle/input'):\n",
    "#     for filename in filenames:\n",
    "#         print(os.path.join(dirname, filename))\n",
    "competition = False\n",
    "saving_model = False\n",
    "print(\"Setup complete\")\n",
    "\n",
    "# You can write up to 20GB to the current directory (/kaggle/working/) that gets preserved as output when you create a version using \"Save & Run All\" \n",
    "# You can also write temporary files to /kaggle/temp/, but they won't be saved outside of the current session"
   ]
  },
  {
   "cell_type": "markdown",
   "id": "38acc343",
   "metadata": {
    "papermill": {
     "duration": 0.007264,
     "end_time": "2025-08-26T05:17:59.929701",
     "exception": false,
     "start_time": "2025-08-26T05:17:59.922437",
     "status": "completed"
    },
    "tags": []
   },
   "source": [
    "## EDA"
   ]
  },
  {
   "cell_type": "code",
   "execution_count": 3,
   "id": "c8843cd2",
   "metadata": {
    "execution": {
     "iopub.execute_input": "2025-08-26T05:17:59.944567Z",
     "iopub.status.busy": "2025-08-26T05:17:59.943984Z",
     "iopub.status.idle": "2025-08-26T05:18:00.015282Z",
     "shell.execute_reply": "2025-08-26T05:18:00.014391Z"
    },
    "papermill": {
     "duration": 0.080508,
     "end_time": "2025-08-26T05:18:00.016649",
     "exception": false,
     "start_time": "2025-08-26T05:17:59.936141",
     "status": "completed"
    },
    "tags": []
   },
   "outputs": [],
   "source": [
    "if not competition:\n",
    "    df_train = pd.read_csv(\"/kaggle/input/jigsaw-gui/train.csv\")\n",
    "df_test = pd.read_csv(\"/kaggle/input/jigsaw-agile-community-rules/test.csv\")"
   ]
  },
  {
   "cell_type": "code",
   "execution_count": 4,
   "id": "7520d9b4",
   "metadata": {
    "execution": {
     "iopub.execute_input": "2025-08-26T05:18:00.030604Z",
     "iopub.status.busy": "2025-08-26T05:18:00.030357Z",
     "iopub.status.idle": "2025-08-26T05:18:00.033762Z",
     "shell.execute_reply": "2025-08-26T05:18:00.033089Z"
    },
    "papermill": {
     "duration": 0.011509,
     "end_time": "2025-08-26T05:18:00.034924",
     "exception": false,
     "start_time": "2025-08-26T05:18:00.023415",
     "status": "completed"
    },
    "tags": []
   },
   "outputs": [],
   "source": [
    "if not competition:\n",
    "    df_train"
   ]
  },
  {
   "cell_type": "code",
   "execution_count": 5,
   "id": "13c754bb",
   "metadata": {
    "execution": {
     "iopub.execute_input": "2025-08-26T05:18:00.048662Z",
     "iopub.status.busy": "2025-08-26T05:18:00.048480Z",
     "iopub.status.idle": "2025-08-26T05:18:00.070982Z",
     "shell.execute_reply": "2025-08-26T05:18:00.070267Z"
    },
    "papermill": {
     "duration": 0.0305,
     "end_time": "2025-08-26T05:18:00.072326",
     "exception": false,
     "start_time": "2025-08-26T05:18:00.041826",
     "status": "completed"
    },
    "tags": []
   },
   "outputs": [
    {
     "data": {
      "text/html": [
       "<div>\n",
       "<style scoped>\n",
       "    .dataframe tbody tr th:only-of-type {\n",
       "        vertical-align: middle;\n",
       "    }\n",
       "\n",
       "    .dataframe tbody tr th {\n",
       "        vertical-align: top;\n",
       "    }\n",
       "\n",
       "    .dataframe thead th {\n",
       "        text-align: right;\n",
       "    }\n",
       "</style>\n",
       "<table border=\"1\" class=\"dataframe\">\n",
       "  <thead>\n",
       "    <tr style=\"text-align: right;\">\n",
       "      <th></th>\n",
       "      <th>row_id</th>\n",
       "      <th>body</th>\n",
       "      <th>rule</th>\n",
       "      <th>subreddit</th>\n",
       "      <th>positive_example_1</th>\n",
       "      <th>positive_example_2</th>\n",
       "      <th>negative_example_1</th>\n",
       "      <th>negative_example_2</th>\n",
       "    </tr>\n",
       "  </thead>\n",
       "  <tbody>\n",
       "    <tr>\n",
       "      <th>0</th>\n",
       "      <td>2029</td>\n",
       "      <td>NEW RAP GROUP 17. CHECK US OUT https://soundcl...</td>\n",
       "      <td>No Advertising: Spam, referral links, unsolici...</td>\n",
       "      <td>hiphopheads</td>\n",
       "      <td>Hey, guys, just wanted to drop in and invite y...</td>\n",
       "      <td>Cum Swallowing Hottie Katrina Kaif Cartoon Xvi...</td>\n",
       "      <td>SD Stream Eng - [Chelsea TV USA](http://soccer...</td>\n",
       "      <td>HD Streams: |[ENG HD Stoke vs Manchester Unite...</td>\n",
       "    </tr>\n",
       "    <tr>\n",
       "      <th>1</th>\n",
       "      <td>2030</td>\n",
       "      <td>Make your life comfortable. Get up to 15% Disc...</td>\n",
       "      <td>No legal advice: Do not offer or request legal...</td>\n",
       "      <td>AskReddit</td>\n",
       "      <td>Get a lawyer and get the security camera foota...</td>\n",
       "      <td>That isn't drastic. You tried reaching out to ...</td>\n",
       "      <td>So what are you going to do with the insurance...</td>\n",
       "      <td>It's just for Austria &amp; Germany. If you still ...</td>\n",
       "    </tr>\n",
       "    <tr>\n",
       "      <th>2</th>\n",
       "      <td>2031</td>\n",
       "      <td>Kickin' ass and selling underwear!\\nJust made ...</td>\n",
       "      <td>No Advertising: Spam, referral links, unsolici...</td>\n",
       "      <td>gonewild</td>\n",
       "      <td>Good story my friend. Check out my blog at  ht...</td>\n",
       "      <td>If you know what exactly you need then you don...</td>\n",
       "      <td>CENTIPEDES\\n\\nSOME BASED PATRIOTS HAVE CREATED...</td>\n",
       "      <td>[So great! Thanks for sharing.](http://www.che...</td>\n",
       "    </tr>\n",
       "    <tr>\n",
       "      <th>3</th>\n",
       "      <td>2032</td>\n",
       "      <td>watch  hooters  best  therein  http://clickan...</td>\n",
       "      <td>No Advertising: Spam, referral links, unsolici...</td>\n",
       "      <td>personalfinance</td>\n",
       "      <td>Earn 50,000 bonus points with Chase Sapphire P...</td>\n",
       "      <td>Cool, front page! I made this print along with...</td>\n",
       "      <td>[Full HD Movie Online Free](http://www.flickma...</td>\n",
       "      <td>* Karambit Black Pearl\\n* 0.02137822 Float (un...</td>\n",
       "    </tr>\n",
       "    <tr>\n",
       "      <th>4</th>\n",
       "      <td>2033</td>\n",
       "      <td>bitches  for free  at this point  show all  h...</td>\n",
       "      <td>No Advertising: Spam, referral links, unsolici...</td>\n",
       "      <td>Showerthoughts</td>\n",
       "      <td>code free tyrande ---&gt;&gt;&gt; [Imgur](http://i.imgu...</td>\n",
       "      <td>My trade link\\nhttps://steamcommunity.com/trad...</td>\n",
       "      <td>**HD** [ mio Stadium 102 HD](http://www.genti....</td>\n",
       "      <td>Infographics is an incredible method for showi...</td>\n",
       "    </tr>\n",
       "    <tr>\n",
       "      <th>5</th>\n",
       "      <td>2034</td>\n",
       "      <td>Top 10 Pentakills in August https://youtu.be/Z...</td>\n",
       "      <td>No Advertising: Spam, referral links, unsolici...</td>\n",
       "      <td>leagueoflegends</td>\n",
       "      <td>code free tyrande ---&gt;&gt;&gt; [Imgur](http://i.imgu...</td>\n",
       "      <td>see  tits  sweet  at this point  http://sh.or...</td>\n",
       "      <td>its my asreddit https://www.youtube.com/watch?...</td>\n",
       "      <td>click here for more videos[Russian mafia messe...</td>\n",
       "    </tr>\n",
       "    <tr>\n",
       "      <th>6</th>\n",
       "      <td>2035</td>\n",
       "      <td>WIN A SAMSUNG SMARTWATCH!\\n\\nhttp://www.innomd...</td>\n",
       "      <td>No Advertising: Spam, referral links, unsolici...</td>\n",
       "      <td>AskReddit</td>\n",
       "      <td>[ENJOY 50,000 BONUS POINTS after $4,000 spent ...</td>\n",
       "      <td>We have high quality Canadian Polymer banknote...</td>\n",
       "      <td>i was on the same ios and try this jailbreak m...</td>\n",
       "      <td>We're streaming Pokemon Veitnamese Crystal RIG...</td>\n",
       "    </tr>\n",
       "    <tr>\n",
       "      <th>7</th>\n",
       "      <td>2036</td>\n",
       "      <td>[This mixtape is lit FAM!](https://beholdthear...</td>\n",
       "      <td>No Advertising: Spam, referral links, unsolici...</td>\n",
       "      <td>BlackPeopleTwitter</td>\n",
       "      <td>watch good one hooters there http://https://x5...</td>\n",
       "      <td>bad pussies waiting for you herein http://gour...</td>\n",
       "      <td>[Full HD Movie Online Free](http://www.flickma...</td>\n",
       "      <td>* Computers :http://livematchstreamz.blogspot....</td>\n",
       "    </tr>\n",
       "    <tr>\n",
       "      <th>8</th>\n",
       "      <td>2037</td>\n",
       "      <td>must be watch movie https://sites.google.com/s...</td>\n",
       "      <td>No Advertising: Spam, referral links, unsolici...</td>\n",
       "      <td>movies</td>\n",
       "      <td>see  there  hooters  sweet  http://url.t.aylo...</td>\n",
       "      <td>Sign up with my link and get $1,000 of free pr...</td>\n",
       "      <td>The fact that there are pro and cons to everyt...</td>\n",
       "      <td>Oh that's interesting. You should check out my...</td>\n",
       "    </tr>\n",
       "    <tr>\n",
       "      <th>9</th>\n",
       "      <td>2038</td>\n",
       "      <td>Free paypal cards here!! https://www.pointspri...</td>\n",
       "      <td>No Advertising: Spam, referral links, unsolici...</td>\n",
       "      <td>pics</td>\n",
       "      <td>she will come your home open her legs with  an...</td>\n",
       "      <td>Old and young  your girl-next-door make sex wi...</td>\n",
       "      <td>i think  the conjuring 2 is not bad movie ,The...</td>\n",
       "      <td>wow, she's so beautyful\\n&gt;[Sakura Vietnam](htt...</td>\n",
       "    </tr>\n",
       "  </tbody>\n",
       "</table>\n",
       "</div>"
      ],
      "text/plain": [
       "   row_id                                               body  \\\n",
       "0    2029  NEW RAP GROUP 17. CHECK US OUT https://soundcl...   \n",
       "1    2030  Make your life comfortable. Get up to 15% Disc...   \n",
       "2    2031  Kickin' ass and selling underwear!\\nJust made ...   \n",
       "3    2032   watch  hooters  best  therein  http://clickan...   \n",
       "4    2033   bitches  for free  at this point  show all  h...   \n",
       "5    2034  Top 10 Pentakills in August https://youtu.be/Z...   \n",
       "6    2035  WIN A SAMSUNG SMARTWATCH!\\n\\nhttp://www.innomd...   \n",
       "7    2036  [This mixtape is lit FAM!](https://beholdthear...   \n",
       "8    2037  must be watch movie https://sites.google.com/s...   \n",
       "9    2038  Free paypal cards here!! https://www.pointspri...   \n",
       "\n",
       "                                                rule           subreddit  \\\n",
       "0  No Advertising: Spam, referral links, unsolici...         hiphopheads   \n",
       "1  No legal advice: Do not offer or request legal...           AskReddit   \n",
       "2  No Advertising: Spam, referral links, unsolici...            gonewild   \n",
       "3  No Advertising: Spam, referral links, unsolici...     personalfinance   \n",
       "4  No Advertising: Spam, referral links, unsolici...      Showerthoughts   \n",
       "5  No Advertising: Spam, referral links, unsolici...     leagueoflegends   \n",
       "6  No Advertising: Spam, referral links, unsolici...           AskReddit   \n",
       "7  No Advertising: Spam, referral links, unsolici...  BlackPeopleTwitter   \n",
       "8  No Advertising: Spam, referral links, unsolici...              movies   \n",
       "9  No Advertising: Spam, referral links, unsolici...                pics   \n",
       "\n",
       "                                  positive_example_1  \\\n",
       "0  Hey, guys, just wanted to drop in and invite y...   \n",
       "1  Get a lawyer and get the security camera foota...   \n",
       "2  Good story my friend. Check out my blog at  ht...   \n",
       "3  Earn 50,000 bonus points with Chase Sapphire P...   \n",
       "4  code free tyrande --->>> [Imgur](http://i.imgu...   \n",
       "5  code free tyrande --->>> [Imgur](http://i.imgu...   \n",
       "6  [ENJOY 50,000 BONUS POINTS after $4,000 spent ...   \n",
       "7  watch good one hooters there http://https://x5...   \n",
       "8   see  there  hooters  sweet  http://url.t.aylo...   \n",
       "9  she will come your home open her legs with  an...   \n",
       "\n",
       "                                  positive_example_2  \\\n",
       "0  Cum Swallowing Hottie Katrina Kaif Cartoon Xvi...   \n",
       "1  That isn't drastic. You tried reaching out to ...   \n",
       "2  If you know what exactly you need then you don...   \n",
       "3  Cool, front page! I made this print along with...   \n",
       "4  My trade link\\nhttps://steamcommunity.com/trad...   \n",
       "5   see  tits  sweet  at this point  http://sh.or...   \n",
       "6  We have high quality Canadian Polymer banknote...   \n",
       "7  bad pussies waiting for you herein http://gour...   \n",
       "8  Sign up with my link and get $1,000 of free pr...   \n",
       "9  Old and young  your girl-next-door make sex wi...   \n",
       "\n",
       "                                  negative_example_1  \\\n",
       "0  SD Stream Eng - [Chelsea TV USA](http://soccer...   \n",
       "1  So what are you going to do with the insurance...   \n",
       "2  CENTIPEDES\\n\\nSOME BASED PATRIOTS HAVE CREATED...   \n",
       "3  [Full HD Movie Online Free](http://www.flickma...   \n",
       "4  **HD** [ mio Stadium 102 HD](http://www.genti....   \n",
       "5  its my asreddit https://www.youtube.com/watch?...   \n",
       "6  i was on the same ios and try this jailbreak m...   \n",
       "7  [Full HD Movie Online Free](http://www.flickma...   \n",
       "8  The fact that there are pro and cons to everyt...   \n",
       "9  i think  the conjuring 2 is not bad movie ,The...   \n",
       "\n",
       "                                  negative_example_2  \n",
       "0  HD Streams: |[ENG HD Stoke vs Manchester Unite...  \n",
       "1  It's just for Austria & Germany. If you still ...  \n",
       "2  [So great! Thanks for sharing.](http://www.che...  \n",
       "3  * Karambit Black Pearl\\n* 0.02137822 Float (un...  \n",
       "4  Infographics is an incredible method for showi...  \n",
       "5  click here for more videos[Russian mafia messe...  \n",
       "6  We're streaming Pokemon Veitnamese Crystal RIG...  \n",
       "7  * Computers :http://livematchstreamz.blogspot....  \n",
       "8  Oh that's interesting. You should check out my...  \n",
       "9  wow, she's so beautyful\\n>[Sakura Vietnam](htt...  "
      ]
     },
     "execution_count": 5,
     "metadata": {},
     "output_type": "execute_result"
    }
   ],
   "source": [
    "df_test"
   ]
  },
  {
   "cell_type": "code",
   "execution_count": 6,
   "id": "d1a88ea4",
   "metadata": {
    "execution": {
     "iopub.execute_input": "2025-08-26T05:18:00.087222Z",
     "iopub.status.busy": "2025-08-26T05:18:00.086574Z",
     "iopub.status.idle": "2025-08-26T05:18:00.104081Z",
     "shell.execute_reply": "2025-08-26T05:18:00.103304Z"
    },
    "papermill": {
     "duration": 0.025724,
     "end_time": "2025-08-26T05:18:00.105248",
     "exception": false,
     "start_time": "2025-08-26T05:18:00.079524",
     "status": "completed"
    },
    "tags": []
   },
   "outputs": [],
   "source": [
    "if not competition:\n",
    "    df_train.describe(include=\"object\")"
   ]
  },
  {
   "cell_type": "code",
   "execution_count": 7,
   "id": "4020368e",
   "metadata": {
    "execution": {
     "iopub.execute_input": "2025-08-26T05:18:00.119355Z",
     "iopub.status.busy": "2025-08-26T05:18:00.119114Z",
     "iopub.status.idle": "2025-08-26T05:18:00.123883Z",
     "shell.execute_reply": "2025-08-26T05:18:00.123397Z"
    },
    "papermill": {
     "duration": 0.012953,
     "end_time": "2025-08-26T05:18:00.124896",
     "exception": false,
     "start_time": "2025-08-26T05:18:00.111943",
     "status": "completed"
    },
    "tags": []
   },
   "outputs": [],
   "source": [
    "if not competition:\n",
    "    df_train.rule_violation.value_counts()"
   ]
  },
  {
   "cell_type": "code",
   "execution_count": 8,
   "id": "bdb93b4f",
   "metadata": {
    "execution": {
     "iopub.execute_input": "2025-08-26T05:18:00.139635Z",
     "iopub.status.busy": "2025-08-26T05:18:00.139428Z",
     "iopub.status.idle": "2025-08-26T05:18:00.162661Z",
     "shell.execute_reply": "2025-08-26T05:18:00.162038Z"
    },
    "papermill": {
     "duration": 0.031404,
     "end_time": "2025-08-26T05:18:00.163656",
     "exception": false,
     "start_time": "2025-08-26T05:18:00.132252",
     "status": "completed"
    },
    "tags": []
   },
   "outputs": [
    {
     "data": {
      "text/html": [
       "<div>\n",
       "<style scoped>\n",
       "    .dataframe tbody tr th:only-of-type {\n",
       "        vertical-align: middle;\n",
       "    }\n",
       "\n",
       "    .dataframe tbody tr th {\n",
       "        vertical-align: top;\n",
       "    }\n",
       "\n",
       "    .dataframe thead th {\n",
       "        text-align: right;\n",
       "    }\n",
       "</style>\n",
       "<table border=\"1\" class=\"dataframe\">\n",
       "  <thead>\n",
       "    <tr style=\"text-align: right;\">\n",
       "      <th></th>\n",
       "      <th>body</th>\n",
       "      <th>rule</th>\n",
       "      <th>subreddit</th>\n",
       "      <th>positive_example_1</th>\n",
       "      <th>positive_example_2</th>\n",
       "      <th>negative_example_1</th>\n",
       "      <th>negative_example_2</th>\n",
       "    </tr>\n",
       "  </thead>\n",
       "  <tbody>\n",
       "    <tr>\n",
       "      <th>count</th>\n",
       "      <td>13</td>\n",
       "      <td>13</td>\n",
       "      <td>13</td>\n",
       "      <td>13</td>\n",
       "      <td>13</td>\n",
       "      <td>13</td>\n",
       "      <td>13</td>\n",
       "    </tr>\n",
       "    <tr>\n",
       "      <th>unique</th>\n",
       "      <td>1</td>\n",
       "      <td>1</td>\n",
       "      <td>12</td>\n",
       "      <td>11</td>\n",
       "      <td>12</td>\n",
       "      <td>13</td>\n",
       "      <td>13</td>\n",
       "    </tr>\n",
       "    <tr>\n",
       "      <th>top</th>\n",
       "      <td>We're streaming Pokemon Veitnamese Crystal RIG...</td>\n",
       "      <td>No Advertising: Spam, referral links, unsolici...</td>\n",
       "      <td>leagueoflegends</td>\n",
       "      <td>beautiful  boobs  find  now  http://annon.lin...</td>\n",
       "      <td>porn video http://y2u.be/..https://bam.bz/OY *...</td>\n",
       "      <td>Get fit with It works [it works website ](www....</td>\n",
       "      <td>We're streaming Pokemon Veitnamese Crystal RIG...</td>\n",
       "    </tr>\n",
       "    <tr>\n",
       "      <th>freq</th>\n",
       "      <td>13</td>\n",
       "      <td>13</td>\n",
       "      <td>2</td>\n",
       "      <td>2</td>\n",
       "      <td>2</td>\n",
       "      <td>1</td>\n",
       "      <td>1</td>\n",
       "    </tr>\n",
       "  </tbody>\n",
       "</table>\n",
       "</div>"
      ],
      "text/plain": [
       "                                                     body  \\\n",
       "count                                                  13   \n",
       "unique                                                  1   \n",
       "top     We're streaming Pokemon Veitnamese Crystal RIG...   \n",
       "freq                                                   13   \n",
       "\n",
       "                                                     rule        subreddit  \\\n",
       "count                                                  13               13   \n",
       "unique                                                  1               12   \n",
       "top     No Advertising: Spam, referral links, unsolici...  leagueoflegends   \n",
       "freq                                                   13                2   \n",
       "\n",
       "                                       positive_example_1  \\\n",
       "count                                                  13   \n",
       "unique                                                 11   \n",
       "top      beautiful  boobs  find  now  http://annon.lin...   \n",
       "freq                                                    2   \n",
       "\n",
       "                                       positive_example_2  \\\n",
       "count                                                  13   \n",
       "unique                                                 12   \n",
       "top     porn video http://y2u.be/..https://bam.bz/OY *...   \n",
       "freq                                                    2   \n",
       "\n",
       "                                       negative_example_1  \\\n",
       "count                                                  13   \n",
       "unique                                                 13   \n",
       "top     Get fit with It works [it works website ](www....   \n",
       "freq                                                    1   \n",
       "\n",
       "                                       negative_example_2  \n",
       "count                                                  13  \n",
       "unique                                                 13  \n",
       "top     We're streaming Pokemon Veitnamese Crystal RIG...  \n",
       "freq                                                    1  "
      ]
     },
     "metadata": {},
     "output_type": "display_data"
    }
   ],
   "source": [
    "if not competition:\n",
    "    same_body = df_train.groupby(\"body\").size().reset_index(name=\"cnt\")\n",
    "    same_body = same_body[same_body[\"cnt\"] >1]\n",
    "    display(df_train[df_train[\"body\"] == same_body.loc[1404,\"body\"]].describe(include=\"object\"))\n"
   ]
  },
  {
   "cell_type": "markdown",
   "id": "5303db1f",
   "metadata": {
    "papermill": {
     "duration": 0.006408,
     "end_time": "2025-08-26T05:18:00.176732",
     "exception": false,
     "start_time": "2025-08-26T05:18:00.170324",
     "status": "completed"
    },
    "tags": []
   },
   "source": [
    "Plot distribution of subbredit and their respective rule violation"
   ]
  },
  {
   "cell_type": "code",
   "execution_count": 9,
   "id": "7ecfaac8",
   "metadata": {
    "execution": {
     "iopub.execute_input": "2025-08-26T05:18:00.192395Z",
     "iopub.status.busy": "2025-08-26T05:18:00.191775Z",
     "iopub.status.idle": "2025-08-26T05:18:00.598713Z",
     "shell.execute_reply": "2025-08-26T05:18:00.598105Z"
    },
    "papermill": {
     "duration": 0.41535,
     "end_time": "2025-08-26T05:18:00.599893",
     "exception": false,
     "start_time": "2025-08-26T05:18:00.184543",
     "status": "completed"
    },
    "tags": []
   },
   "outputs": [
    {
     "data": {
      "text/html": [
       "<iframe\n",
       "    scrolling=\"no\"\n",
       "    width=\"100%\"\n",
       "    height=\"545px\"\n",
       "    src=\"iframe_figures/figure_9.html\"\n",
       "    frameborder=\"0\"\n",
       "    allowfullscreen\n",
       "></iframe>\n"
      ]
     },
     "metadata": {},
     "output_type": "display_data"
    }
   ],
   "source": [
    "if not competition:\n",
    "    data = [go.Bar(\n",
    "                x = df_train.subreddit.value_counts().keys(),\n",
    "                y = df_train.subreddit.value_counts().values,\n",
    "                marker= dict(colorscale='Jet',\n",
    "                             color = df_train.subreddit.value_counts().values\n",
    "                            ),\n",
    "        )]\n",
    "    \n",
    "    layout = go.Layout(\n",
    "        title='Subreddit variable distribution'\n",
    "    )\n",
    "    \n",
    "    fig = go.Figure(data=data, layout=layout)\n",
    "    \n",
    "    fig.show(renderer='iframe')\n",
    "    "
   ]
  },
  {
   "cell_type": "code",
   "execution_count": 10,
   "id": "23c4230f",
   "metadata": {
    "execution": {
     "iopub.execute_input": "2025-08-26T05:18:00.614915Z",
     "iopub.status.busy": "2025-08-26T05:18:00.614685Z",
     "iopub.status.idle": "2025-08-26T05:18:00.733850Z",
     "shell.execute_reply": "2025-08-26T05:18:00.733104Z"
    },
    "papermill": {
     "duration": 0.128021,
     "end_time": "2025-08-26T05:18:00.735022",
     "exception": false,
     "start_time": "2025-08-26T05:18:00.607001",
     "status": "completed"
    },
    "tags": []
   },
   "outputs": [
    {
     "data": {
      "text/html": [
       "<iframe\n",
       "    scrolling=\"no\"\n",
       "    width=\"100%\"\n",
       "    height=\"545px\"\n",
       "    src=\"iframe_figures/figure_10.html\"\n",
       "    frameborder=\"0\"\n",
       "    allowfullscreen\n",
       "></iframe>\n"
      ]
     },
     "metadata": {},
     "output_type": "display_data"
    }
   ],
   "source": [
    "if not competition:\n",
    "    counts = df_train.groupby([\"subreddit\", \"rule_violation\"]).size().reset_index(name=\"count\")\n",
    "\n",
    "\n",
    "    # Total par subreddit (pour trier)\n",
    "    totals = counts.groupby(\"subreddit\")[\"count\"].sum().sort_values(ascending=False)\n",
    "\n",
    "    # Réordonner counts selon ce tri\n",
    "    counts[\"subreddit\"] = pd.Categorical(counts[\"subreddit\"], categories=totals.index, ordered=True)\n",
    "    counts = counts.sort_values([\"subreddit\", \"rule_violation\"])\n",
    "    \n",
    "    # Séparer les deux classes (0 et 1)\n",
    "    counts_0 = counts[counts.rule_violation == 0]\n",
    "    counts_1 = counts[counts.rule_violation == 1]\n",
    "\n",
    "    # Tracer les barres empilées\n",
    "    fig = go.Figure(data=[\n",
    "        go.Bar(\n",
    "            x=counts_0[\"subreddit\"],\n",
    "            y=counts_0[\"count\"],\n",
    "            name=\"No Violation (0)\",\n",
    "            marker_color=\"steelblue\"\n",
    "        ),\n",
    "        go.Bar(\n",
    "            x=counts_1[\"subreddit\"],\n",
    "            y=counts_1[\"count\"],\n",
    "            name=\"Violation (1)\",\n",
    "            marker_color=\"firebrick\"\n",
    "        )\n",
    "    ])\n",
    "\n",
    "    # Layout\n",
    "    fig.update_layout(\n",
    "        barmode=\"stack\",\n",
    "        title=\"Subreddit distribution with Rule Violation split\",\n",
    "        xaxis_title=\"Subreddit\",\n",
    "        yaxis_title=\"Number of comments\",\n",
    "        legend=dict(title=\"Rule Violation\")\n",
    "    )\n",
    "\n",
    "    fig.show(renderer=\"iframe\")\n",
    "    "
   ]
  },
  {
   "cell_type": "markdown",
   "id": "6590d0e3",
   "metadata": {
    "papermill": {
     "duration": 0.006741,
     "end_time": "2025-08-26T05:18:00.749178",
     "exception": false,
     "start_time": "2025-08-26T05:18:00.742437",
     "status": "completed"
    },
    "tags": []
   },
   "source": [
    "Among the top forums, *LegalAdvice* shows a particularly high proportion of comments violating the rules, whereas *soccerstreams*, for example, has very few (only 4). \n",
    "\n",
    " Such imbalance across subreddits could bias the model into “cheating” by assuming some forums, like *soccerstreams*, are always clean."
   ]
  },
  {
   "cell_type": "code",
   "execution_count": 11,
   "id": "ed6a5d9d",
   "metadata": {
    "execution": {
     "iopub.execute_input": "2025-08-26T05:18:00.763808Z",
     "iopub.status.busy": "2025-08-26T05:18:00.763382Z",
     "iopub.status.idle": "2025-08-26T05:18:00.770047Z",
     "shell.execute_reply": "2025-08-26T05:18:00.769406Z"
    },
    "papermill": {
     "duration": 0.015175,
     "end_time": "2025-08-26T05:18:00.771136",
     "exception": false,
     "start_time": "2025-08-26T05:18:00.755961",
     "status": "completed"
    },
    "tags": []
   },
   "outputs": [
    {
     "name": "stdout",
     "output_type": "stream",
     "text": [
      "139\n"
     ]
    }
   ],
   "source": [
    "df_examples = pd.DataFrame({\"examples\":df_train[df_train.subreddit==\"soccerstreams\"].positive_example_1 \n",
    "                            + df_train[df_train.subreddit==\"soccerstreams\"].positive_example_2 })\n",
    "print(len(df_examples.examples.unique()))"
   ]
  },
  {
   "cell_type": "markdown",
   "id": "02b7601a",
   "metadata": {
    "papermill": {
     "duration": 0.006761,
     "end_time": "2025-08-26T05:18:00.784738",
     "exception": false,
     "start_time": "2025-08-26T05:18:00.777977",
     "status": "completed"
    },
    "tags": []
   },
   "source": [
    "However we have a good amount of negative example for soccerstreams that can helps unbalance this class"
   ]
  },
  {
   "cell_type": "code",
   "execution_count": 12,
   "id": "ea03accd",
   "metadata": {
    "execution": {
     "iopub.execute_input": "2025-08-26T05:18:00.845599Z",
     "iopub.status.busy": "2025-08-26T05:18:00.845016Z",
     "iopub.status.idle": "2025-08-26T05:18:01.548841Z",
     "shell.execute_reply": "2025-08-26T05:18:01.548206Z"
    },
    "papermill": {
     "duration": 0.712827,
     "end_time": "2025-08-26T05:18:01.549973",
     "exception": false,
     "start_time": "2025-08-26T05:18:00.837146",
     "status": "completed"
    },
    "tags": []
   },
   "outputs": [
    {
     "data": {
      "text/html": [
       "<iframe\n",
       "    scrolling=\"no\"\n",
       "    width=\"100%\"\n",
       "    height=\"545px\"\n",
       "    src=\"iframe_figures/figure_12.html\"\n",
       "    frameborder=\"0\"\n",
       "    allowfullscreen\n",
       "></iframe>\n"
      ]
     },
     "metadata": {},
     "output_type": "display_data"
    }
   ],
   "source": [
    "if not competition:\n",
    "    all_words = df_train['body'].str.split(expand=True).unstack().value_counts()\n",
    "    data = [go.Bar(\n",
    "                x = all_words.index.values[2:50],\n",
    "                y = all_words.values[2:50],\n",
    "                marker= dict(colorscale='Jet',\n",
    "                             color = all_words.values[2:100]\n",
    "                            ),\n",
    "                text='Word counts'\n",
    "        )]\n",
    "    \n",
    "    layout = go.Layout(\n",
    "        title='Top 50 (Uncleaned) Word frequencies in the training dataset'\n",
    "    )\n",
    "    \n",
    "    fig = go.Figure(data=data, layout=layout)\n",
    "    \n",
    "    fig.show(renderer=\"iframe\")"
   ]
  },
  {
   "cell_type": "code",
   "execution_count": 13,
   "id": "578a58fb",
   "metadata": {
    "execution": {
     "iopub.execute_input": "2025-08-26T05:18:01.565466Z",
     "iopub.status.busy": "2025-08-26T05:18:01.565242Z",
     "iopub.status.idle": "2025-08-26T05:18:02.870598Z",
     "shell.execute_reply": "2025-08-26T05:18:02.869512Z"
    },
    "papermill": {
     "duration": 1.323791,
     "end_time": "2025-08-26T05:18:02.881411",
     "exception": false,
     "start_time": "2025-08-26T05:18:01.557620",
     "status": "completed"
    },
    "tags": []
   },
   "outputs": [
    {
     "data": {
      "image/png": "[encoded data removed]",
      "text/plain": [
       "<Figure size 2000x1000 with 1 Axes>"
      ]
     },
     "metadata": {},
     "output_type": "display_data"
    }
   ],
   "source": [
    "#clean comments\n",
    "clean_mask=np.array(Image.open(\"../input/imagesforkernal/safe-zone.png\"))\n",
    "clean_mask=clean_mask[:,:,1]\n",
    "#wordcloud for clean comments\n",
    "subset=df_train[df_train.rule_violation==0]\n",
    "text=subset.body.values\n",
    "wc= WordCloud(background_color=\"black\",max_words=2000,mask=clean_mask,stopwords=STOPWORDS)\n",
    "wc.generate(\" \".join(text))\n",
    "plt.figure(figsize=(20,10))\n",
    "plt.axis(\"off\")\n",
    "plt.title(\"Words frequented in Clean Comments\", fontsize=20)\n",
    "plt.imshow(wc.recolor(colormap= 'viridis' , random_state=17), alpha=0.98)\n",
    "plt.show()"
   ]
  },
  {
   "cell_type": "code",
   "execution_count": 14,
   "id": "9e00fa96",
   "metadata": {
    "execution": {
     "iopub.execute_input": "2025-08-26T05:18:02.914364Z",
     "iopub.status.busy": "2025-08-26T05:18:02.914124Z",
     "iopub.status.idle": "2025-08-26T05:18:02.987587Z",
     "shell.execute_reply": "2025-08-26T05:18:02.986882Z"
    },
    "papermill": {
     "duration": 0.089732,
     "end_time": "2025-08-26T05:18:02.988671",
     "exception": false,
     "start_time": "2025-08-26T05:18:02.898939",
     "status": "completed"
    },
    "tags": []
   },
   "outputs": [
    {
     "data": {
      "text/plain": [
       "\"\\n    You are an expert moderator bot for Reddit. \\n    Your task is to accurately determine whether a given Reddit comment violates a specific subreddit rule. \\n    You will be provided with the subreddit name and the rule. \\n    Analyze the comment carefully in the context of the provided rule and subreddit name. \\n    Your final response MUST be either 'Yes' or 'No'. A 'Yes' indicates a clear violation, and a 'No' indicates no violation.    \\n    \\n    Subreddit: r/hiphopheads\\n    Rule: No Advertising: Spam, referral links, unsolicited advertising, and promotional content are not allowed.\\n\\n    **Analyze the following comment:**\\n        \\n        Comment: NEW RAP GROUP 17. CHECK US OUT https://soundcloud.com/user-125895482\\n        Violation:\\n    \""
      ]
     },
     "execution_count": 14,
     "metadata": {},
     "output_type": "execute_result"
    }
   ],
   "source": [
    "def build_input_single_comment(row):\n",
    "        text = f\"\"\"\n",
    "    You are an expert moderator bot for Reddit. \n",
    "    Your task is to accurately determine whether a given Reddit comment violates a specific subreddit rule. \n",
    "    You will be provided with the subreddit name and the rule. \n",
    "    Analyze the comment carefully in the context of the provided rule and subreddit name. \n",
    "    Your final response MUST be either 'Yes' or 'No'. A 'Yes' indicates a clear violation, and a 'No' indicates no violation.    \n",
    "    \n",
    "    Subreddit: r/{row.subreddit}\n",
    "    Rule: {row.rule}\n",
    "\n",
    "    **Analyze the following comment:**\n",
    "        \n",
    "        Comment: {row.body}\n",
    "        Violation:\n",
    "    \"\"\"\n",
    "        return text\n",
    "    \n",
    "#id2label = {0:\"No violation\",1:\"Rule Violation\"}\n",
    "def build_input(row):\n",
    "    text = f\"\"\"\n",
    "    r/{row.subreddit}\n",
    "    Rule: {row.rule}\n",
    "    \n",
    "    1) {row.positive_example_1}\n",
    "    Violation: Yes\n",
    "    \n",
    "    2) {row.positive_example_2}\n",
    "    Violation: Yes\n",
    "    \n",
    "    3) {row.negative_example_1}\n",
    "    Violation: No\n",
    "    \n",
    "    4) {row.negative_example_2}\n",
    "    Violation: No\n",
    "    \n",
    "    You have to predict if the comment below violate the rule of Reddit :\n",
    "    5) {row.body}\n",
    "    \"\"\"\n",
    "    \n",
    "    return text\n",
    "if not competition:   \n",
    "    df_train[\"input\"] = df_train.apply(build_input, axis=1)\n",
    "df_test[\"input\"] = df_test.apply(build_input_single_comment, axis=1)\n",
    "df_test[\"input\"].iloc[0]"
   ]
  },
  {
   "cell_type": "markdown",
   "id": "aef40a4f",
   "metadata": {
    "papermill": {
     "duration": 0.01363,
     "end_time": "2025-08-26T05:18:03.016181",
     "exception": false,
     "start_time": "2025-08-26T05:18:03.002551",
     "status": "completed"
    },
    "tags": []
   },
   "source": [
    "## Tokenization"
   ]
  },
  {
   "cell_type": "code",
   "execution_count": 15,
   "id": "d2c58956",
   "metadata": {
    "execution": {
     "iopub.execute_input": "2025-08-26T05:18:03.044736Z",
     "iopub.status.busy": "2025-08-26T05:18:03.044307Z",
     "iopub.status.idle": "2025-08-26T05:18:03.104372Z",
     "shell.execute_reply": "2025-08-26T05:18:03.103793Z"
    },
    "papermill": {
     "duration": 0.075897,
     "end_time": "2025-08-26T05:18:03.105692",
     "exception": false,
     "start_time": "2025-08-26T05:18:03.029795",
     "status": "completed"
    },
    "tags": []
   },
   "outputs": [],
   "source": [
    "eval_ds = Dataset.from_pandas(df_test)\n",
    "if not competition:\n",
    "    ds = Dataset.from_pandas(df_train)\n",
    "    ds"
   ]
  },
  {
   "cell_type": "code",
   "execution_count": 16,
   "id": "daba6d20",
   "metadata": {
    "execution": {
     "iopub.execute_input": "2025-08-26T05:18:03.134873Z",
     "iopub.status.busy": "2025-08-26T05:18:03.134665Z",
     "iopub.status.idle": "2025-08-26T05:18:04.407393Z",
     "shell.execute_reply": "2025-08-26T05:18:04.406606Z"
    },
    "papermill": {
     "duration": 1.288552,
     "end_time": "2025-08-26T05:18:04.408671",
     "exception": false,
     "start_time": "2025-08-26T05:18:03.120119",
     "status": "completed"
    },
    "tags": []
   },
   "outputs": [
    {
     "data": {
      "application/vnd.jupyter.widget-view+json": {
       "model_id": "b52c7f9d957448f9b6a84db6d98a073b",
       "version_major": 2,
       "version_minor": 0
      },
      "text/plain": [
       "Map:   0%|          | 0/2029 [00:00<?, ? examples/s]"
      ]
     },
     "metadata": {},
     "output_type": "display_data"
    },
    {
     "data": {
      "application/vnd.jupyter.widget-view+json": {
       "model_id": "88f1bbae37da42938b9e69699ec14e72",
       "version_major": 2,
       "version_minor": 0
      },
      "text/plain": [
       "Map:   0%|          | 0/10 [00:00<?, ? examples/s]"
      ]
     },
     "metadata": {},
     "output_type": "display_data"
    }
   ],
   "source": [
    "model_nm = \"microsoft/deberta-v3-small\"\n",
    "save_path = '/kaggle/input/full_continuous_prompt/tensorflow2/default/1/microsoft/deberta-v3-small_fine_tuned'\n",
    "save_base = \"/kaggle/input/deberta-v3-base/transformers/default/1/deberta-v3-base\"\n",
    "def tok_func(x): return tokz(x[\"input\"])\n",
    "if competition:\n",
    "    tokz = AutoTokenizer.from_pretrained(save_path)\n",
    "else:\n",
    "    tokz = AutoTokenizer.from_pretrained(save_base)\n",
    "    tok_ds = ds.map(tok_func, batched=True)\n",
    "    tok_ds = tok_ds.rename_columns({\"rule_violation\":\"labels\"})\n",
    "\n",
    "# To run this quickly in parallel on every row in our dataset :\n",
    "toks_eval_ds = eval_ds.map(tok_func, batched=True)"
   ]
  },
  {
   "cell_type": "code",
   "execution_count": 17,
   "id": "1eab2945",
   "metadata": {
    "execution": {
     "iopub.execute_input": "2025-08-26T05:18:04.440100Z",
     "iopub.status.busy": "2025-08-26T05:18:04.439816Z",
     "iopub.status.idle": "2025-08-26T05:18:04.444145Z",
     "shell.execute_reply": "2025-08-26T05:18:04.443584Z"
    },
    "papermill": {
     "duration": 0.021088,
     "end_time": "2025-08-26T05:18:04.445268",
     "exception": false,
     "start_time": "2025-08-26T05:18:04.424180",
     "status": "completed"
    },
    "tags": []
   },
   "outputs": [
    {
     "data": {
      "text/plain": [
       "Dataset({\n",
       "    features: ['row_id', 'body', 'rule', 'subreddit', 'positive_example_1', 'positive_example_2', 'negative_example_1', 'negative_example_2', 'input', 'input_ids', 'token_type_ids', 'attention_mask'],\n",
       "    num_rows: 10\n",
       "})"
      ]
     },
     "execution_count": 17,
     "metadata": {},
     "output_type": "execute_result"
    }
   ],
   "source": [
    "toks_eval_ds"
   ]
  },
  {
   "cell_type": "markdown",
   "id": "930be123",
   "metadata": {
    "papermill": {
     "duration": 0.014493,
     "end_time": "2025-08-26T05:18:04.474789",
     "exception": false,
     "start_time": "2025-08-26T05:18:04.460296",
     "status": "completed"
    },
    "tags": []
   },
   "source": [
    "## Test and validation sets"
   ]
  },
  {
   "cell_type": "code",
   "execution_count": 18,
   "id": "b3aa3d0c",
   "metadata": {
    "execution": {
     "iopub.execute_input": "2025-08-26T05:18:04.505002Z",
     "iopub.status.busy": "2025-08-26T05:18:04.504799Z",
     "iopub.status.idle": "2025-08-26T05:18:04.514739Z",
     "shell.execute_reply": "2025-08-26T05:18:04.514285Z"
    },
    "papermill": {
     "duration": 0.026374,
     "end_time": "2025-08-26T05:18:04.515835",
     "exception": false,
     "start_time": "2025-08-26T05:18:04.489461",
     "status": "completed"
    },
    "tags": []
   },
   "outputs": [],
   "source": [
    "if not competition:\n",
    "    dds = tok_ds.train_test_split(0.25, seed=42) # Put in your validation set message (body) never seen\n",
    "    dds"
   ]
  },
  {
   "cell_type": "markdown",
   "id": "19573f82",
   "metadata": {
    "papermill": {
     "duration": 0.013934,
     "end_time": "2025-08-26T05:18:04.543396",
     "exception": false,
     "start_time": "2025-08-26T05:18:04.529462",
     "status": "completed"
    },
    "tags": []
   },
   "source": [
    "## Metrics for evaluation"
   ]
  },
  {
   "cell_type": "code",
   "execution_count": 19,
   "id": "56d2f60f",
   "metadata": {
    "execution": {
     "iopub.execute_input": "2025-08-26T05:18:04.572467Z",
     "iopub.status.busy": "2025-08-26T05:18:04.572222Z",
     "iopub.status.idle": "2025-08-26T05:18:04.576782Z",
     "shell.execute_reply": "2025-08-26T05:18:04.576103Z"
    },
    "papermill": {
     "duration": 0.020526,
     "end_time": "2025-08-26T05:18:04.577877",
     "exception": false,
     "start_time": "2025-08-26T05:18:04.557351",
     "status": "completed"
    },
    "tags": []
   },
   "outputs": [],
   "source": [
    "def auc(eval_pred):\n",
    "    preds, labels = eval_pred\n",
    "    # Apply softmax across the 2 logits → take probability of class 1\n",
    "    exp_preds = np.exp(preds - np.max(preds, axis=1, keepdims=True))  # stability trick\n",
    "    probs = exp_preds[:, 1] / exp_preds.sum(axis=1, keepdims=True)[:, 0]\n",
    "\n",
    "    # Compute AUC only if both classes are present\n",
    "    if len(np.unique(labels)) > 1:\n",
    "        auc = roc_auc_score(labels, probs)\n",
    "    else:\n",
    "        auc = 0.0\n",
    "\n",
    "    return {\"AUC\": auc}"
   ]
  },
  {
   "cell_type": "code",
   "execution_count": 20,
   "id": "5dda193c",
   "metadata": {
    "execution": {
     "iopub.execute_input": "2025-08-26T05:18:04.606690Z",
     "iopub.status.busy": "2025-08-26T05:18:04.606488Z",
     "iopub.status.idle": "2025-08-26T05:18:04.613590Z",
     "shell.execute_reply": "2025-08-26T05:18:04.613093Z"
    },
    "papermill": {
     "duration": 0.022623,
     "end_time": "2025-08-26T05:18:04.614579",
     "exception": false,
     "start_time": "2025-08-26T05:18:04.591956",
     "status": "completed"
    },
    "tags": []
   },
   "outputs": [],
   "source": [
    "bs = 16\n",
    "epochs = 3\n",
    "lr = 8e-5\n",
    "def get_dds(df):\n",
    "    ds = Dataset.from_pandas(df).rename_column('rule_violation', 'labels')\n",
    "    tok_ds = ds.map(tok_func, batched=True )\n",
    "    return tok_ds\n",
    "\n",
    "def get_model():\n",
    "    if competition:\n",
    "        model = AutoModelForSequenceClassification.from_pretrained(save_path)\n",
    "    else:\n",
    "        model = AutoModelForSequenceClassification.from_pretrained(save_base)\n",
    "    return model\n",
    "\n",
    "def get_trainer(dds=None, model=None,is_full_dataset=False):\n",
    "    if model is None: model = get_model()\n",
    "    if competition:\n",
    "        args = TrainingArguments('outputs', learning_rate=lr, warmup_ratio=0.1, lr_scheduler_type='cosine', fp16=True, \n",
    "        per_device_train_batch_size=bs, per_device_eval_batch_size=bs*2,\n",
    "        num_train_epochs=epochs, weight_decay=0.01, report_to='none')\n",
    "        return Trainer(model, args,\n",
    "                  tokenizer=tokz)\n",
    "    else:\n",
    "        args = TrainingArguments('outputs', learning_rate=lr, warmup_ratio=0.1, lr_scheduler_type='cosine', fp16=True,\n",
    "        eval_strategy=\"epoch\" if not is_full_dataset else \"no\", save_strategy=\"epoch\",load_best_model_at_end=not is_full_dataset, per_device_train_batch_size=bs, per_device_eval_batch_size=bs*2, \n",
    "        num_train_epochs=epochs, weight_decay=0.01, report_to='none')\n",
    "        return Trainer(model, args, train_dataset=dds['train'] if not is_full_dataset else dds, eval_dataset=dds['test'] if not is_full_dataset else None,compute_metrics=auc,\n",
    "                  tokenizer=tokz)\n",
    "\n",
    "def get_continuous_probs(preds): # For AUC \n",
    "    probs = tf.nn.softmax(preds, axis=-1)[:, 1].numpy() \n",
    "    return probs\n",
    "\n",
    "def get_class_probs(preds):\n",
    "    return softmax\n",
    "    "
   ]
  },
  {
   "cell_type": "markdown",
   "id": "b19d4f18",
   "metadata": {
    "papermill": {
     "duration": 0.014233,
     "end_time": "2025-08-26T05:18:04.642905",
     "exception": false,
     "start_time": "2025-08-26T05:18:04.628672",
     "status": "completed"
    },
    "tags": []
   },
   "source": [
    "## Training our model"
   ]
  },
  {
   "cell_type": "code",
   "execution_count": 21,
   "id": "e98faa71",
   "metadata": {
    "execution": {
     "iopub.execute_input": "2025-08-26T05:18:04.671294Z",
     "iopub.status.busy": "2025-08-26T05:18:04.671025Z",
     "iopub.status.idle": "2025-08-26T05:18:11.417414Z",
     "shell.execute_reply": "2025-08-26T05:18:11.416768Z"
    },
    "papermill": {
     "duration": 6.76201,
     "end_time": "2025-08-26T05:18:11.418766",
     "exception": false,
     "start_time": "2025-08-26T05:18:04.656756",
     "status": "completed"
    },
    "tags": []
   },
   "outputs": [
    {
     "name": "stderr",
     "output_type": "stream",
     "text": [
      "/tmp/ipykernel_18/1378150465.py:28: FutureWarning:\n",
      "\n",
      "`tokenizer` is deprecated and will be removed in version 5.0.0 for `Trainer.__init__`. Use `processing_class` instead.\n",
      "\n"
     ]
    }
   ],
   "source": [
    "model = get_model()\n",
    "trainer = get_trainer(dds if not competition else None, model, is_full_dataset=saving_model)"
   ]
  },
  {
   "cell_type": "code",
   "execution_count": 22,
   "id": "e8ac6a92",
   "metadata": {
    "execution": {
     "iopub.execute_input": "2025-08-26T05:18:11.449470Z",
     "iopub.status.busy": "2025-08-26T05:18:11.448858Z",
     "iopub.status.idle": "2025-08-26T05:18:11.452206Z",
     "shell.execute_reply": "2025-08-26T05:18:11.451515Z"
    },
    "papermill": {
     "duration": 0.019155,
     "end_time": "2025-08-26T05:18:11.453244",
     "exception": false,
     "start_time": "2025-08-26T05:18:11.434089",
     "status": "completed"
    },
    "tags": []
   },
   "outputs": [],
   "source": [
    "# if not competition or saving_model:\n",
    "#     trainer.train()"
   ]
  },
  {
   "cell_type": "code",
   "execution_count": 23,
   "id": "52ad845c",
   "metadata": {
    "execution": {
     "iopub.execute_input": "2025-08-26T05:18:11.482862Z",
     "iopub.status.busy": "2025-08-26T05:18:11.482345Z",
     "iopub.status.idle": "2025-08-26T05:18:11.485904Z",
     "shell.execute_reply": "2025-08-26T05:18:11.485247Z"
    },
    "papermill": {
     "duration": 0.019469,
     "end_time": "2025-08-26T05:18:11.487025",
     "exception": false,
     "start_time": "2025-08-26T05:18:11.467556",
     "status": "completed"
    },
    "tags": []
   },
   "outputs": [],
   "source": [
    "if saving_model:\n",
    "    save_path_fine_tuned = 'microsoft/deberta-v3-small_fine_tuned'\n",
    "    trainer.save_model(save_path_fine_tuned)\n",
    "    tokz.save_pretrained(save_path_fine_tuned)\n",
    "    raise SystemExit"
   ]
  },
  {
   "cell_type": "code",
   "execution_count": 24,
   "id": "3a94b7cd",
   "metadata": {
    "execution": {
     "iopub.execute_input": "2025-08-26T05:18:11.515711Z",
     "iopub.status.busy": "2025-08-26T05:18:11.515504Z",
     "iopub.status.idle": "2025-08-26T05:18:11.519026Z",
     "shell.execute_reply": "2025-08-26T05:18:11.518538Z"
    },
    "papermill": {
     "duration": 0.019159,
     "end_time": "2025-08-26T05:18:11.520104",
     "exception": false,
     "start_time": "2025-08-26T05:18:11.500945",
     "status": "completed"
    },
    "tags": []
   },
   "outputs": [],
   "source": [
    "if competition:\n",
    "    preds = trainer.predict(toks_eval_ds).predictions.astype(float)\n",
    "    probs = get_continuous_probs(preds)\n",
    "    submission = pd.DataFrame({\n",
    "        'row_id': eval_ds['row_id'],\n",
    "        'rule_violation': probs\n",
    "    })\n",
    "    submission.to_csv('submission.csv', index=False)\n",
    "    raise SystemExit"
   ]
  },
  {
   "cell_type": "markdown",
   "id": "434f4985",
   "metadata": {
    "papermill": {
     "duration": 0.013867,
     "end_time": "2025-08-26T05:18:11.548115",
     "exception": false,
     "start_time": "2025-08-26T05:18:11.534248",
     "status": "completed"
    },
    "tags": []
   },
   "source": [
    "We now want to start iterating to improve this. To do that, we need to know whether the model gives stable results. I tried training it multiples times from scratch, and got a range of outcomes for the validation loss around 0.53-0.61 and auc around (0.844-0.860). This is stable enough to make a start - if we're not finding improvements that are visible within this range, then they're not very significant! Later on, if and when we feel confident that we've got the basics right, we can use cross validation and more epochs of training."
   ]
  },
  {
   "cell_type": "markdown",
   "id": "59b8850c",
   "metadata": {
    "papermill": {
     "duration": 0.013661,
     "end_time": "2025-08-26T05:18:11.575775",
     "exception": false,
     "start_time": "2025-08-26T05:18:11.562114",
     "status": "completed"
    },
    "tags": []
   },
   "source": [
    "### What worked\n",
    "\n",
    "- Adding \"You have to predict if the comment below violate the rule of Reddit :\" 0.506 - 0.862"
   ]
  },
  {
   "cell_type": "markdown",
   "id": "98c5a66a",
   "metadata": {
    "papermill": {
     "duration": 0.014009,
     "end_time": "2025-08-26T05:18:11.603779",
     "exception": false,
     "start_time": "2025-08-26T05:18:11.589770",
     "status": "completed"
    },
    "tags": []
   },
   "source": [
    "## Cross Validation"
   ]
  },
  {
   "cell_type": "markdown",
   "id": "e829264f",
   "metadata": {
    "papermill": {
     "duration": 0.013857,
     "end_time": "2025-08-26T05:18:11.631519",
     "exception": false,
     "start_time": "2025-08-26T05:18:11.617662",
     "status": "completed"
    },
    "tags": []
   },
   "source": [
    "Here, all comments with the same body value go together in either train or validation. That prevents the same text from appearing in both training and validation."
   ]
  },
  {
   "cell_type": "code",
   "execution_count": 25,
   "id": "a27b7174",
   "metadata": {
    "execution": {
     "iopub.execute_input": "2025-08-26T05:18:11.660564Z",
     "iopub.status.busy": "2025-08-26T05:18:11.660291Z",
     "iopub.status.idle": "2025-08-26T05:18:12.156220Z",
     "shell.execute_reply": "2025-08-26T05:18:12.155424Z"
    },
    "papermill": {
     "duration": 0.512272,
     "end_time": "2025-08-26T05:18:12.157818",
     "exception": false,
     "start_time": "2025-08-26T05:18:11.645546",
     "status": "completed"
    },
    "tags": []
   },
   "outputs": [],
   "source": [
    "n_folds = 4\n",
    "cv = StratifiedGroupKFold(n_splits=n_folds)\n",
    "idxs = np.arange(len(df_train))\n",
    "df_train_mixed = df_train.sample(frac=1, random_state=42)\n",
    "targets = df_train_mixed.rule_violation\n",
    "folds = list(cv.split(idxs, targets, df_train_mixed.body))\n",
    "\n",
    "def get_fold(folds, i):\n",
    "    trn_idx, val_idx = folds[i]\n",
    "    return DatasetDict({\"train\":tok_ds.select(trn_idx), \"test\":tok_ds.select(val_idx)})"
   ]
  },
  {
   "cell_type": "code",
   "execution_count": 26,
   "id": "d07dce9c",
   "metadata": {
    "execution": {
     "iopub.execute_input": "2025-08-26T05:18:12.194633Z",
     "iopub.status.busy": "2025-08-26T05:18:12.193938Z",
     "iopub.status.idle": "2025-08-26T05:18:13.138549Z",
     "shell.execute_reply": "2025-08-26T05:18:13.137687Z"
    },
    "papermill": {
     "duration": 0.964342,
     "end_time": "2025-08-26T05:18:13.139843",
     "exception": false,
     "start_time": "2025-08-26T05:18:12.175501",
     "status": "completed"
    },
    "tags": []
   },
   "outputs": [
    {
     "name": "stderr",
     "output_type": "stream",
     "text": [
      "/tmp/ipykernel_18/1233759398.py:14: SettingWithCopyWarning:\n",
      "\n",
      "\n",
      "A value is trying to be set on a copy of a slice from a DataFrame.\n",
      "Try using .loc[row_indexer,col_indexer] = value instead\n",
      "\n",
      "See the caveats in the documentation: https://pandas.pydata.org/pandas-docs/stable/user_guide/indexing.html#returning-a-view-versus-a-copy\n",
      "\n",
      "/tmp/ipykernel_18/1233759398.py:14: SettingWithCopyWarning:\n",
      "\n",
      "\n",
      "A value is trying to be set on a copy of a slice from a DataFrame.\n",
      "Try using .loc[row_indexer,col_indexer] = value instead\n",
      "\n",
      "See the caveats in the documentation: https://pandas.pydata.org/pandas-docs/stable/user_guide/indexing.html#returning-a-view-versus-a-copy\n",
      "\n",
      "/tmp/ipykernel_18/1233759398.py:14: SettingWithCopyWarning:\n",
      "\n",
      "\n",
      "A value is trying to be set on a copy of a slice from a DataFrame.\n",
      "Try using .loc[row_indexer,col_indexer] = value instead\n",
      "\n",
      "See the caveats in the documentation: https://pandas.pydata.org/pandas-docs/stable/user_guide/indexing.html#returning-a-view-versus-a-copy\n",
      "\n",
      "/tmp/ipykernel_18/1233759398.py:14: SettingWithCopyWarning:\n",
      "\n",
      "\n",
      "A value is trying to be set on a copy of a slice from a DataFrame.\n",
      "Try using .loc[row_indexer,col_indexer] = value instead\n",
      "\n",
      "See the caveats in the documentation: https://pandas.pydata.org/pandas-docs/stable/user_guide/indexing.html#returning-a-view-versus-a-copy\n",
      "\n"
     ]
    },
    {
     "data": {
      "application/vnd.jupyter.widget-view+json": {
       "model_id": "671adb916ea641558e5b6669f5588f20",
       "version_major": 2,
       "version_minor": 0
      },
      "text/plain": [
       "Map:   0%|          | 0/2297 [00:00<?, ? examples/s]"
      ]
     },
     "metadata": {},
     "output_type": "display_data"
    },
    {
     "name": "stderr",
     "output_type": "stream",
     "text": [
      "/tmp/ipykernel_18/1233759398.py:14: SettingWithCopyWarning:\n",
      "\n",
      "\n",
      "A value is trying to be set on a copy of a slice from a DataFrame.\n",
      "Try using .loc[row_indexer,col_indexer] = value instead\n",
      "\n",
      "See the caveats in the documentation: https://pandas.pydata.org/pandas-docs/stable/user_guide/indexing.html#returning-a-view-versus-a-copy\n",
      "\n",
      "/tmp/ipykernel_18/1233759398.py:14: SettingWithCopyWarning:\n",
      "\n",
      "\n",
      "A value is trying to be set on a copy of a slice from a DataFrame.\n",
      "Try using .loc[row_indexer,col_indexer] = value instead\n",
      "\n",
      "See the caveats in the documentation: https://pandas.pydata.org/pandas-docs/stable/user_guide/indexing.html#returning-a-view-versus-a-copy\n",
      "\n",
      "/tmp/ipykernel_18/1233759398.py:14: SettingWithCopyWarning:\n",
      "\n",
      "\n",
      "A value is trying to be set on a copy of a slice from a DataFrame.\n",
      "Try using .loc[row_indexer,col_indexer] = value instead\n",
      "\n",
      "See the caveats in the documentation: https://pandas.pydata.org/pandas-docs/stable/user_guide/indexing.html#returning-a-view-versus-a-copy\n",
      "\n",
      "/tmp/ipykernel_18/1233759398.py:14: SettingWithCopyWarning:\n",
      "\n",
      "\n",
      "A value is trying to be set on a copy of a slice from a DataFrame.\n",
      "Try using .loc[row_indexer,col_indexer] = value instead\n",
      "\n",
      "See the caveats in the documentation: https://pandas.pydata.org/pandas-docs/stable/user_guide/indexing.html#returning-a-view-versus-a-copy\n",
      "\n"
     ]
    },
    {
     "data": {
      "application/vnd.jupyter.widget-view+json": {
       "model_id": "ea3d760bb0eb4eac8548240e59f78ffe",
       "version_major": 2,
       "version_minor": 0
      },
      "text/plain": [
       "Map:   0%|          | 0/20 [00:00<?, ? examples/s]"
      ]
     },
     "metadata": {},
     "output_type": "display_data"
    },
    {
     "data": {
      "application/vnd.jupyter.widget-view+json": {
       "model_id": "da0b6f13819d481cb20bd120da7787af",
       "version_major": 2,
       "version_minor": 0
      },
      "text/plain": [
       "Filter:   0%|          | 0/20 [00:00<?, ? examples/s]"
      ]
     },
     "metadata": {},
     "output_type": "display_data"
    },
    {
     "name": "stdout",
     "output_type": "stream",
     "text": [
      "2297\n",
      "20\n",
      "2317\n"
     ]
    }
   ],
   "source": [
    "train_ds = tok_ds\n",
    "\n",
    "\n",
    "def build_input_separate_example(ds):\n",
    "\n",
    "    \n",
    "    # subreddit, rule, positive_example_i, negative_example_i, rule_violation\n",
    "    cat = [\"positive_example_\", \"negative_example_\"]\n",
    "    df = ds.to_pandas()\n",
    "    final_df = df\n",
    "    for c in cat:\n",
    "        for i in range(1,3):\n",
    "            res = df[[\"subreddit\",\"rule\",f\"{c}{i}\"]]\n",
    "            res[\"labels\"] = c == \"positive_example_\"\n",
    "            res.rename(columns={f\"{cat}{i}\":\"body\"})\n",
    "            final_df = pd.concat([final_df,res], axis=0, ignore_index=True)\n",
    "    final_df = final_df.drop_duplicates(subset=[\"subreddit\",\"rule\",\"body\",\"labels\"])\n",
    "    final_df[\"input\"] = final_df.apply(build_input_single_comment, axis=1)\n",
    "    final_df = final_df.dropna(subset=[\"labels\"],axis=0)\n",
    "    final_df[\"labels\"] = final_df[\"labels\"].astype(\"float32\")\n",
    "    ds = Dataset.from_pandas(final_df)\n",
    "    ds = ds.map(tok_func, batched=True)\n",
    "    return ds\n",
    "\n",
    "train_ds = build_input_separate_example(train_ds)\n",
    "test_ds = build_input_separate_example(eval_ds)\n",
    "test_ds = test_ds.filter(lambda x:x[\"labels\"] is not None)\n",
    "combined_ds = concatenate_datasets([train_ds,test_ds])\n",
    "print(len(train_ds))\n",
    "print(len(test_ds))\n",
    "print(len(combined_ds))"
   ]
  },
  {
   "cell_type": "code",
   "execution_count": 27,
   "id": "a7e291ee",
   "metadata": {
    "execution": {
     "iopub.execute_input": "2025-08-26T05:18:13.170949Z",
     "iopub.status.busy": "2025-08-26T05:18:13.170668Z",
     "iopub.status.idle": "2025-08-26T05:18:13.605892Z",
     "shell.execute_reply": "2025-08-26T05:18:13.605049Z"
    },
    "papermill": {
     "duration": 0.452042,
     "end_time": "2025-08-26T05:18:13.607346",
     "exception": false,
     "start_time": "2025-08-26T05:18:13.155304",
     "status": "completed"
    },
    "tags": []
   },
   "outputs": [
    {
     "name": "stderr",
     "output_type": "stream",
     "text": [
      "/tmp/ipykernel_18/1378150465.py:28: FutureWarning:\n",
      "\n",
      "`tokenizer` is deprecated and will be removed in version 5.0.0 for `Trainer.__init__`. Use `processing_class` instead.\n",
      "\n"
     ]
    }
   ],
   "source": [
    "trainer = get_trainer(combined_ds, is_full_dataset=True)"
   ]
  },
  {
   "cell_type": "code",
   "execution_count": 28,
   "id": "780a354a",
   "metadata": {
    "execution": {
     "iopub.execute_input": "2025-08-26T05:18:13.638319Z",
     "iopub.status.busy": "2025-08-26T05:18:13.638038Z",
     "iopub.status.idle": "2025-08-26T05:22:33.820767Z",
     "shell.execute_reply": "2025-08-26T05:22:33.819962Z"
    },
    "papermill": {
     "duration": 260.19935,
     "end_time": "2025-08-26T05:22:33.821899",
     "exception": false,
     "start_time": "2025-08-26T05:18:13.622549",
     "status": "completed"
    },
    "tags": []
   },
   "outputs": [
    {
     "name": "stdout",
     "output_type": "stream",
     "text": [
      "===== Full DataSet =====\n"
     ]
    },
    {
     "name": "stderr",
     "output_type": "stream",
     "text": [
      "/usr/local/lib/python3.11/dist-packages/torch/nn/parallel/_functions.py:70: UserWarning:\n",
      "\n",
      "Was asked to gather along dimension 0, but all input tensors were scalars; will instead unsqueeze and return a vector.\n",
      "\n"
     ]
    },
    {
     "data": {
      "text/html": [
       "\n",
       "    <div>\n",
       "      \n",
       "      <progress value='219' max='219' style='width:300px; height:20px; vertical-align: middle;'></progress>\n",
       "      [219/219 04:17, Epoch 3/3]\n",
       "    </div>\n",
       "    <table border=\"1\" class=\"dataframe\">\n",
       "  <thead>\n",
       " <tr style=\"text-align: left;\">\n",
       "      <th>Step</th>\n",
       "      <th>Training Loss</th>\n",
       "    </tr>\n",
       "  </thead>\n",
       "  <tbody>\n",
       "  </tbody>\n",
       "</table><p>"
      ],
      "text/plain": [
       "<IPython.core.display.HTML object>"
      ]
     },
     "metadata": {},
     "output_type": "display_data"
    },
    {
     "name": "stderr",
     "output_type": "stream",
     "text": [
      "/usr/local/lib/python3.11/dist-packages/torch/nn/parallel/_functions.py:70: UserWarning:\n",
      "\n",
      "Was asked to gather along dimension 0, but all input tensors were scalars; will instead unsqueeze and return a vector.\n",
      "\n",
      "/usr/local/lib/python3.11/dist-packages/torch/nn/parallel/_functions.py:70: UserWarning:\n",
      "\n",
      "Was asked to gather along dimension 0, but all input tensors were scalars; will instead unsqueeze and return a vector.\n",
      "\n"
     ]
    },
    {
     "data": {
      "text/plain": [
       "TrainOutput(global_step=219, training_loss=0.2459584763060966, metrics={'train_runtime': 259.7425, 'train_samples_per_second': 26.761, 'train_steps_per_second': 0.843, 'total_flos': 902984672821008.0, 'train_loss': 0.2459584763060966, 'epoch': 3.0})"
      ]
     },
     "execution_count": 28,
     "metadata": {},
     "output_type": "execute_result"
    }
   ],
   "source": [
    "print(f\"===== Full DataSet =====\")\n",
    "trainer.train()"
   ]
  },
  {
   "cell_type": "code",
   "execution_count": 29,
   "id": "7afecad4",
   "metadata": {
    "execution": {
     "iopub.execute_input": "2025-08-26T05:22:33.853171Z",
     "iopub.status.busy": "2025-08-26T05:22:33.852922Z",
     "iopub.status.idle": "2025-08-26T05:22:34.085555Z",
     "shell.execute_reply": "2025-08-26T05:22:34.084540Z"
    },
    "papermill": {
     "duration": 0.249414,
     "end_time": "2025-08-26T05:22:34.086738",
     "exception": true,
     "start_time": "2025-08-26T05:22:33.837324",
     "status": "failed"
    },
    "tags": []
   },
   "outputs": [
    {
     "data": {
      "text/html": [],
      "text/plain": [
       "<IPython.core.display.HTML object>"
      ]
     },
     "metadata": {},
     "output_type": "display_data"
    },
    {
     "name": "stdout",
     "output_type": "stream",
     "text": [
      "[[0.17679814]\n",
      " [0.40926251]\n",
      " [0.42738169]\n",
      " [0.19814889]\n",
      " [0.68371397]\n",
      " [0.16467354]\n",
      " [0.68583483]\n",
      " [0.16319053]\n",
      " [0.16386211]\n",
      " [0.68210399]]\n",
      "[0.54408476 0.60091103 0.60524827 0.54937578 0.66456711 0.5410756\n",
      " 0.66503972 0.54070733 0.54087411 0.66420812]\n"
     ]
    },
    {
     "ename": "SystemExit",
     "evalue": "",
     "output_type": "error",
     "traceback": [
      "An exception has occurred, use %tb to see the full traceback.\n",
      "\u001b[0;31mSystemExit\u001b[0m\n"
     ]
    },
    {
     "name": "stderr",
     "output_type": "stream",
     "text": [
      "/usr/local/lib/python3.11/dist-packages/IPython/core/interactiveshell.py:3561: UserWarning:\n",
      "\n",
      "To exit: use 'exit', 'quit', or Ctrl-D.\n",
      "\n"
     ]
    }
   ],
   "source": [
    "preds = trainer.predict(toks_eval_ds).predictions.astype(float)\n",
    "print(preds)\n",
    "#probs = get_continuous_probs(preds)\n",
    "probs = 1 / (1 + np.exp(-preds.reshape(-1)))\n",
    "print(probs)\n",
    "submission = pd.DataFrame({\n",
    "    'row_id': eval_ds['row_id'],\n",
    "    'rule_violation': probs\n",
    "})\n",
    "submission.to_csv('submission.csv', index=False)\n",
    "raise SystemExit"
   ]
  },
  {
   "cell_type": "code",
   "execution_count": null,
   "id": "4abcd35f",
   "metadata": {
    "execution": {
     "iopub.status.busy": "2025-08-26T04:45:31.175893Z",
     "iopub.status.idle": "2025-08-26T04:45:31.176238Z",
     "shell.execute_reply": "2025-08-26T04:45:31.176066Z",
     "shell.execute_reply.started": "2025-08-26T04:45:31.176050Z"
    },
    "papermill": {
     "duration": null,
     "end_time": null,
     "exception": null,
     "start_time": null,
     "status": "pending"
    },
    "tags": []
   },
   "outputs": [],
   "source": [
    "oof_preds = np.zeros(len(df_train_mixed))   # to store fold predictions\n",
    "preds_arr = []\n",
    "oof_labels = df_train_mixed.rule_violation.values\n",
    "fold_losses, fold_aucs = [], []\n",
    "tok_ds_mixed = get_dds(df_train_mixed)\n",
    "for i in range(n_folds):\n",
    "    print(f\"===== Fold {i+1} =====\")\n",
    "    \n",
    "    # Build trainer\n",
    "    fold = get_fold(folds, i)\n",
    "    ds = build_input_separate_example(fold)\n",
    "    trainer = get_trainer(ds)\n",
    "    \n",
    "    # Train\n",
    "    trainer.train()\n",
    "    \n",
    "    # Evaluate (gives loss and metrics)\n",
    "    eval_output = trainer.evaluate()\n",
    "    fold_losses.append(eval_output[\"eval_loss\"])\n",
    "    if \"eval_AUC\" in eval_output:   # if your compute_metrics returns {\"auc\": ...}\n",
    "        fold_aucs.append(eval_output[\"eval_AUC\"])\n",
    "    else:\n",
    "        print(\"no eval_auc\")\n",
    "        fold_aucs.append(eval_output)\n",
    "    \n",
    "    # Predict on validation\n",
    "    trn_idx, val_idx = folds[i]\n",
    "    preds = trainer.predict(tok_ds_mixed.select(val_idx)).predictions\n",
    "    probs = get_continuous_probs(preds)\n",
    "    \n",
    "    # Store in OOF\n",
    "    oof_preds[val_idx] = probs"
   ]
  },
  {
   "cell_type": "code",
   "execution_count": null,
   "id": "24c553d7",
   "metadata": {
    "execution": {
     "iopub.status.busy": "2025-08-26T04:45:31.177482Z",
     "iopub.status.idle": "2025-08-26T04:45:31.177724Z",
     "shell.execute_reply": "2025-08-26T04:45:31.177633Z",
     "shell.execute_reply.started": "2025-08-26T04:45:31.177623Z"
    },
    "papermill": {
     "duration": null,
     "end_time": null,
     "exception": null,
     "start_time": null,
     "status": "pending"
    },
    "tags": []
   },
   "outputs": [],
   "source": [
    "# Average validation loss and AUC\n",
    "mean_loss = np.mean(fold_losses)\n",
    "mean_auc = np.mean(fold_aucs)\n",
    "\n",
    "print(f\"Mean Val Loss: {mean_loss:.4f}\")\n",
    "print(f\"Mean Val AUC: {mean_auc:.4f}\")\n",
    "\n",
    "\n",
    "# # OOF AUC (global, unbiased estimate)\n",
    "oof_auc = roc_auc_score(oof_labels, oof_preds)\n",
    "print(f\"OOF AUC: {oof_auc:.4f}\")\n",
    "#new_preds = trainer.predict(tok_ds.select(val_idx))\n"
   ]
  },
  {
   "cell_type": "code",
   "execution_count": null,
   "id": "b59489cd",
   "metadata": {
    "execution": {
     "iopub.execute_input": "2025-08-26T05:16:07.990490Z",
     "iopub.status.busy": "2025-08-26T05:16:07.989695Z",
     "iopub.status.idle": "2025-08-26T05:16:08.949213Z",
     "shell.execute_reply": "2025-08-26T05:16:08.948139Z",
     "shell.execute_reply.started": "2025-08-26T05:16:07.990457Z"
    },
    "papermill": {
     "duration": null,
     "end_time": null,
     "exception": null,
     "start_time": null,
     "status": "pending"
    },
    "tags": []
   },
   "outputs": [],
   "source": [
    "df_train = pd.read_csv(\"/kaggle/input/jigsaw-gui/train.csv\")\n",
    "df_train[\"input\"] =  df_train.apply(build_input_single_comment, axis=1)\n",
    "df_train[\"rule_violation\"] =  df_train.apply(build_input_single_comment, axis=1)\n",
    "tok_ds = get_dds(df_train)\n",
    "all_preds = trainer.predict(tok_ds).predictions.astype(float)\n",
    "#all_probs = get_continuous_probs(all_preds)\n",
    "all_probs = 1 / (1 + np.exp(-all_preds.reshape(-1)))\n",
    "all_auc = roc_auc_score(tok_ds[\"labels\"], all_probs)\n",
    "print(all_auc)"
   ]
  },
  {
   "cell_type": "markdown",
   "id": "742b37eb",
   "metadata": {
    "papermill": {
     "duration": null,
     "end_time": null,
     "exception": null,
     "start_time": null,
     "status": "pending"
    },
    "tags": []
   },
   "source": [
    "- Mean Val Loss: 0.6076\n",
    "Mean Val AUC: 0.7372\n",
    "- Mean Val Loss: 0.6315 Mean Val AUC: 0.7145\n",
    "- Mean Val Loss: 0.5033\n",
    "Mean Val AUC: 0.8493\n",
    "OOF AUC: 0.6111\n"
   ]
  },
  {
   "cell_type": "markdown",
   "id": "823d0043",
   "metadata": {
    "papermill": {
     "duration": null,
     "end_time": null,
     "exception": null,
     "start_time": null,
     "status": "pending"
    },
    "tags": []
   },
   "source": [
    "### Data Pre-processing"
   ]
  },
  {
   "cell_type": "markdown",
   "id": "a40c2930",
   "metadata": {
    "papermill": {
     "duration": null,
     "end_time": null,
     "exception": null,
     "start_time": null,
     "status": "pending"
    },
    "tags": []
   },
   "source": [
    "### Fine Tuning Training"
   ]
  },
  {
   "cell_type": "code",
   "execution_count": null,
   "id": "de0d6ecc",
   "metadata": {
    "execution": {
     "iopub.status.busy": "2025-08-26T04:45:31.179480Z",
     "iopub.status.idle": "2025-08-26T04:45:31.179711Z",
     "shell.execute_reply": "2025-08-26T04:45:31.179613Z",
     "shell.execute_reply.started": "2025-08-26T04:45:31.179603Z"
    },
    "papermill": {
     "duration": null,
     "end_time": null,
     "exception": null,
     "start_time": null,
     "status": "pending"
    },
    "tags": []
   },
   "outputs": [],
   "source": [
    "# # ===== CONFIG =====\n",
    "# SAVE_PATH = \"/kaggle/input/deberta-v3-base/transformers/default/1/deberta-v3-base\"\n",
    "# MAX_LEN = 256\n",
    "# BATCH_SIZE = 8\n",
    "# EPOCHS = 3\n",
    "# LR = 2e-5\n",
    "\n",
    "# #===== 2. Train / Validation Split =====\n",
    "# train_texts, val_texts, train_labels, val_labels = train_test_split(\n",
    "#     df_train[\"input\"].tolist(), df_train[\"rule_violation\"].tolist(), test_size=0.2, random_state=42\n",
    "# )\n",
    "# #train_texts, val_texts, train_labels = reddit_train[\"text\"].tolist(), reddit_test[\"text\"].tolist(),reddit_train[\"rule_violation\"].tolist()\n",
    "# # ===== 3. Load Tokenizer and Tokenize All Data =====\n",
    "# model_nm = \"microsoft/deberta-v3-small\"\n",
    "# tokenizer = AutoTokenizer.from_pretrained(SAVE_PATH)\n",
    "# model = AutoModelForSequenceClassification.from_pretrained(model_nm, num_labels=1)\n",
    "# train_encodings = tokenizer(\n",
    "#     train_texts,\n",
    "#     truncation=True,\n",
    "#     padding=\"max_length\",\n",
    "#     max_length=MAX_LEN,\n",
    "#     return_tensors=\"pt\"\n",
    "# )\n",
    "# val_encodings = tokenizer(\n",
    "#     val_texts,\n",
    "#     truncation=True,\n",
    "#     padding=\"max_length\",\n",
    "#     max_length=MAX_LEN,\n",
    "#     return_tensors=\"pt\"\n",
    "# )\n",
    "\n",
    "# train_labels = torch.tensor(train_labels, dtype=torch.float)\n",
    "# val_labels = torch.tensor(val_labels, dtype=torch.float)\n",
    "\n",
    "# # ===== 4. Create TensorDatasets =====\n",
    "# train_dataset = TensorDataset(\n",
    "#     train_encodings[\"input_ids\"],\n",
    "#     train_encodings[\"attention_mask\"],\n",
    "#     train_labels\n",
    "# )\n",
    "# val_dataset = TensorDataset(\n",
    "#     val_encodings[\"input_ids\"],\n",
    "#     val_encodings[\"attention_mask\"],\n",
    "#     val_labels\n",
    "# )\n",
    "\n",
    "# # ===== 5. Create DataLoaders =====\n",
    "# train_loader = DataLoader(train_dataset, batch_size=BATCH_SIZE, shuffle=True)\n",
    "# val_loader = DataLoader(val_dataset, batch_size=BATCH_SIZE)\n",
    "\n",
    "# # ===== 6. Load Model =====\n",
    "# # With internet access\n",
    "# # model = AutoModelForSequenceClassification.from_pretrained(\n",
    "# #     MODEL_PATH,\n",
    "# #     num_labels=1  # binary classification\n",
    "# # )\n",
    "# # model.save_pretrained(\"./deberta-v3-base\")\n",
    "# # tokenizer.save_pretrained(\"./deberta-v3-base\")\n",
    "\n",
    "# #model = AutoModelForSequenceClassification.from_pretrained(SAVE_PATH, return_dict=True, local_files_only=True)\n",
    "\n",
    "\n",
    "\n",
    "# device = torch.device(\"cuda\" if torch.cuda.is_available() else \"cpu\")\n",
    "# print(device)\n",
    "# model.to(device)\n",
    "\n",
    "# # ===== 7. Optimizer =====\n",
    "# optimizer = AdamW(model.parameters(), lr=LR)\n",
    "\n",
    "# # ===== 8. Training Loop =====\n",
    "# for epoch in range(3):\n",
    "#     model.train()\n",
    "#     total_loss = 0\n",
    "#     for batch in tqdm(train_loader, desc=f\"Epoch {epoch+1}\"):\n",
    "#         input_ids, attention_mask, labels = [b.to(device) for b in batch]\n",
    "        \n",
    "#         optimizer.zero_grad()\n",
    "#         outputs = model(\n",
    "#             input_ids=input_ids,\n",
    "#             attention_mask=attention_mask,\n",
    "#             labels=labels.unsqueeze(1)  # shape: [batch, 1]\n",
    "#         )\n",
    "#         loss = outputs.loss\n",
    "#         total_loss += loss.item()\n",
    "#         loss.backward()\n",
    "#         optimizer.step()\n",
    "    \n",
    "#     avg_loss = total_loss / len(train_loader)\n",
    "#     print(f\"Epoch {epoch+1} Train Loss: {avg_loss:.4f}\")\n",
    "#         # ===== Validation =====\n",
    "#     model.eval()\n",
    "#     total_val_loss = 0\n",
    "#     with torch.no_grad():\n",
    "#         for batch in val_loader:\n",
    "#             input_ids, attention_mask, labels = [b.to(device) for b in batch]\n",
    "#             outputs = model(\n",
    "#                 input_ids=input_ids,\n",
    "#                 attention_mask=attention_mask,\n",
    "#                 labels=labels.unsqueeze(1)\n",
    "#             )\n",
    "#             total_val_loss += outputs.loss.item()\n",
    "#     avg_val_loss = total_val_loss / len(val_loader)\n",
    "#     print(f\"Epoch {epoch+1} Val Loss: {avg_val_loss:.4f}\")\n",
    "    \n",
    "# # model.save_pretrained(\"./deberta-v3-base_finetuned\")\n",
    "# # tokenizer.save_pretrained(\"./deberta-v3-base_finetuned\")\n",
    "\n"
   ]
  },
  {
   "cell_type": "markdown",
   "id": "8d5e7e8f",
   "metadata": {
    "papermill": {
     "duration": null,
     "end_time": null,
     "exception": null,
     "start_time": null,
     "status": "pending"
    },
    "tags": []
   },
   "source": [
    "### Submission"
   ]
  },
  {
   "cell_type": "code",
   "execution_count": null,
   "id": "e801bc3a",
   "metadata": {
    "execution": {
     "iopub.status.busy": "2025-08-26T04:45:31.181048Z",
     "iopub.status.idle": "2025-08-26T04:45:31.181357Z",
     "shell.execute_reply": "2025-08-26T04:45:31.181200Z",
     "shell.execute_reply.started": "2025-08-26T04:45:31.181186Z"
    },
    "papermill": {
     "duration": null,
     "end_time": null,
     "exception": null,
     "start_time": null,
     "status": "pending"
    },
    "tags": []
   },
   "outputs": [],
   "source": [
    "# # ===== SUBMISSIONS =====\n",
    "# model.eval()\n",
    "# total_val_loss = 0\n",
    "# predictions = []\n",
    "# with torch.no_grad():\n",
    "#     for batch in val_loader:\n",
    "#         input_ids, attention_mask, labels = [b.to(device) for b in batch]\n",
    "#         outputs = model(\n",
    "#             input_ids=input_ids,\n",
    "#             attention_mask=attention_mask\n",
    "#         )\n",
    "#         logits = outputs.logits.squeeze(1)\n",
    "#         probs = torch.sigmoid(logits).cpu().numpy()\n",
    "#         predictions.extend(probs)\n",
    "# print(f\"Len predictions {len(predictions)}\")\n",
    "# print(predictions)\n",
    "# submission = pd.DataFrame({\n",
    "#     'row_id': [i for i in range(len(predictions))],\n",
    "#     'rule_violation': predictions\n",
    "# })\n",
    "# submission.to_csv('submission.csv', index=False)\n",
    "# display(submission)"
   ]
  },
  {
   "cell_type": "code",
   "execution_count": null,
   "id": "d15328cb",
   "metadata": {
    "execution": {
     "iopub.status.busy": "2025-08-26T04:45:31.182734Z",
     "iopub.status.idle": "2025-08-26T04:45:31.183045Z",
     "shell.execute_reply": "2025-08-26T04:45:31.182905Z",
     "shell.execute_reply.started": "2025-08-26T04:45:31.182891Z"
    },
    "papermill": {
     "duration": null,
     "end_time": null,
     "exception": null,
     "start_time": null,
     "status": "pending"
    },
    "tags": []
   },
   "outputs": [],
   "source": [
    "# !zip -r debertav3_small.zip \"deberta-v3-base_finetuned\""
   ]
  },
  {
   "cell_type": "code",
   "execution_count": null,
   "id": "371a3da1",
   "metadata": {
    "execution": {
     "iopub.status.busy": "2025-08-26T04:45:31.184025Z",
     "iopub.status.idle": "2025-08-26T04:45:31.184331Z",
     "shell.execute_reply": "2025-08-26T04:45:31.184222Z",
     "shell.execute_reply.started": "2025-08-26T04:45:31.184209Z"
    },
    "papermill": {
     "duration": null,
     "end_time": null,
     "exception": null,
     "start_time": null,
     "status": "pending"
    },
    "tags": []
   },
   "outputs": [],
   "source": [
    "# save_path = 'microsoft/deberta-v3-small'\n",
    "# model_nature = AutoModelForSequenceClassification.from_pretrained(model_nm, return_dict=True)\n",
    "# tokenizer_nature = AutoTokenizer.from_pretrained(model_nm)\n",
    "# model_nature.save_pretrained(save_path)\n",
    "# tokenizer_nature.save_pretrained(save_path)"
   ]
  },
  {
   "cell_type": "code",
   "execution_count": null,
   "id": "75aee88a",
   "metadata": {
    "execution": {
     "iopub.status.busy": "2025-08-26T04:45:31.184995Z",
     "iopub.status.idle": "2025-08-26T04:45:31.185294Z",
     "shell.execute_reply": "2025-08-26T04:45:31.185164Z",
     "shell.execute_reply.started": "2025-08-26T04:45:31.185151Z"
    },
    "papermill": {
     "duration": null,
     "end_time": null,
     "exception": null,
     "start_time": null,
     "status": "pending"
    },
    "tags": []
   },
   "outputs": [],
   "source": [
    "# model_saved = AutoModelForSequenceClassification.from_pretrained(save_path, return_dict=True)\n",
    "# tokenizer_saved = AutoTokenizer.from_pretrained(save_path)\n",
    "# print(model_saved)"
   ]
  }
 ],
 "metadata": {
  "kaggle": {
   "accelerator": "nvidiaTeslaT4",
   "dataSources": [
    {
     "databundleVersionId": 13121456,
     "sourceId": 94635,
     "sourceType": "competition"
    },
    {
     "datasetId": 8090,
     "sourceId": 11361,
     "sourceType": "datasetVersion"
    },
    {
     "datasetId": 8094686,
     "sourceId": 12802549,
     "sourceType": "datasetVersion"
    },
    {
     "modelId": 433956,
     "modelInstanceId": 416218,
     "sourceId": 534844,
     "sourceType": "modelInstanceVersion"
    },
    {
     "isSourceIdPinned": true,
     "modelId": 426006,
     "modelInstanceId": 408144,
     "sourceId": 517869,
     "sourceType": "modelInstanceVersion"
    }
   ],
   "dockerImageVersionId": 31090,
   "isGpuEnabled": true,
   "isInternetEnabled": false,
   "language": "python",
   "sourceType": "notebook"
  },
  "kernelspec": {
   "display_name": "Python 3",
   "language": "python",
   "name": "python3"
  },
  "language_info": {
   "codemirror_mode": {
    "name": "ipython",
    "version": 3
   },
   "file_extension": ".py",
   "mimetype": "text/x-python",
   "name": "python",
   "nbconvert_exporter": "python",
   "pygments_lexer": "ipython3",
   "version": "3.11.13"
  },
  "papermill": {
   "default_parameters": {},
   "duration": 312.255676,
   "end_time": "2025-08-26T05:22:37.392025",
   "environment_variables": {},
   "exception": true,
   "input_path": "__notebook__.ipynb",
   "output_path": "__notebook__.ipynb",
   "parameters": {},
   "start_time": "2025-08-26T05:17:25.136349",
   "version": "2.6.0"
  },
  "widgets": {
   "application/vnd.jupyter.widget-state+json": {
    "state": {
     "09b4ecc7a5ed454dac46e0ee9ac203ca": {
      "model_module": "@jupyter-widgets/base",
      "model_module_version": "2.0.0",
      "model_name": "LayoutModel",
      "state": {
       "_model_module": "@jupyter-widgets/base",
       "_model_module_version": "2.0.0",
       "_model_name": "LayoutModel",
       "_view_count": null,
       "_view_module": "@jupyter-widgets/base",
       "_view_module_version": "2.0.0",
       "_view_name": "LayoutView",
       "align_content": null,
       "align_items": null,
       "align_self": null,
       "border_bottom": null,
       "border_left": null,
       "border_right": null,
       "border_top": null,
       "bottom": null,
       "display": null,
       "flex": null,
       "flex_flow": null,
       "grid_area": null,
       "grid_auto_columns": null,
       "grid_auto_flow": null,
       "grid_auto_rows": null,
       "grid_column": null,
       "grid_gap": null,
       "grid_row": null,
       "grid_template_areas": null,
       "grid_template_columns": null,
       "grid_template_rows": null,
       "height": null,
       "justify_content": null,
       "justify_items": null,
       "left": null,
       "margin": null,
       "max_height": null,
       "max_width": null,
       "min_height": null,
       "min_width": null,
       "object_fit": null,
       "object_position": null,
       "order": null,
       "overflow": null,
       "padding": null,
       "right": null,
       "top": null,
       "visibility": null,
       "width": null
      }
     },
     "0a272bc5d8d14b0da8965cfe303e8113": {
      "model_module": "@jupyter-widgets/base",
      "model_module_version": "2.0.0",
      "model_name": "LayoutModel",
      "state": {
       "_model_module": "@jupyter-widgets/base",
       "_model_module_version": "2.0.0",
       "_model_name": "LayoutModel",
       "_view_count": null,
       "_view_module": "@jupyter-widgets/base",
       "_view_module_version": "2.0.0",
       "_view_name": "LayoutView",
       "align_content": null,
       "align_items": null,
       "align_self": null,
       "border_bottom": null,
       "border_left": null,
       "border_right": null,
       "border_top": null,
       "bottom": null,
       "display": null,
       "flex": null,
       "flex_flow": null,
       "grid_area": null,
       "grid_auto_columns": null,
       "grid_auto_flow": null,
       "grid_auto_rows": null,
       "grid_column": null,
       "grid_gap": null,
       "grid_row": null,
       "grid_template_areas": null,
       "grid_template_columns": null,
       "grid_template_rows": null,
       "height": null,
       "justify_content": null,
       "justify_items": null,
       "left": null,
       "margin": null,
       "max_height": null,
       "max_width": null,
       "min_height": null,
       "min_width": null,
       "object_fit": null,
       "object_position": null,
       "order": null,
       "overflow": null,
       "padding": null,
       "right": null,
       "top": null,
       "visibility": null,
       "width": null
      }
     },
     "0ef32fcd94c64b0495a541821d3531b6": {
      "model_module": "@jupyter-widgets/base",
      "model_module_version": "2.0.0",
      "model_name": "LayoutModel",
      "state": {
       "_model_module": "@jupyter-widgets/base",
       "_model_module_version": "2.0.0",
       "_model_name": "LayoutModel",
       "_view_count": null,
       "_view_module": "@jupyter-widgets/base",
       "_view_module_version": "2.0.0",
       "_view_name": "LayoutView",
       "align_content": null,
       "align_items": null,
       "align_self": null,
       "border_bottom": null,
       "border_left": null,
       "border_right": null,
       "border_top": null,
       "bottom": null,
       "display": null,
       "flex": null,
       "flex_flow": null,
       "grid_area": null,
       "grid_auto_columns": null,
       "grid_auto_flow": null,
       "grid_auto_rows": null,
       "grid_column": null,
       "grid_gap": null,
       "grid_row": null,
       "grid_template_areas": null,
       "grid_template_columns": null,
       "grid_template_rows": null,
       "height": null,
       "justify_content": null,
       "justify_items": null,
       "left": null,
       "margin": null,
       "max_height": null,
       "max_width": null,
       "min_height": null,
       "min_width": null,
       "object_fit": null,
       "object_position": null,
       "order": null,
       "overflow": null,
       "padding": null,
       "right": null,
       "top": null,
       "visibility": null,
       "width": null
      }
     },
     "10e1980282d3464380e009145d24973b": {
      "model_module": "@jupyter-widgets/base",
      "model_module_version": "2.0.0",
      "model_name": "LayoutModel",
      "state": {
       "_model_module": "@jupyter-widgets/base",
       "_model_module_version": "2.0.0",
       "_model_name": "LayoutModel",
       "_view_count": null,
       "_view_module": "@jupyter-widgets/base",
       "_view_module_version": "2.0.0",
       "_view_name": "LayoutView",
       "align_content": null,
       "align_items": null,
       "align_self": null,
       "border_bottom": null,
       "border_left": null,
       "border_right": null,
       "border_top": null,
       "bottom": null,
       "display": null,
       "flex": null,
       "flex_flow": null,
       "grid_area": null,
       "grid_auto_columns": null,
       "grid_auto_flow": null,
       "grid_auto_rows": null,
       "grid_column": null,
       "grid_gap": null,
       "grid_row": null,
       "grid_template_areas": null,
       "grid_template_columns": null,
       "grid_template_rows": null,
       "height": null,
       "justify_content": null,
       "justify_items": null,
       "left": null,
       "margin": null,
       "max_height": null,
       "max_width": null,
       "min_height": null,
       "min_width": null,
       "object_fit": null,
       "object_position": null,
       "order": null,
       "overflow": null,
       "padding": null,
       "right": null,
       "top": null,
       "visibility": null,
       "width": null
      }
     },
     "111f4b44df5d433ca6766209b5c25285": {
      "model_module": "@jupyter-widgets/controls",
      "model_module_version": "2.0.0",
      "model_name": "HTMLModel",
      "state": {
       "_dom_classes": [],
       "_model_module": "@jupyter-widgets/controls",
       "_model_module_version": "2.0.0",
       "_model_name": "HTMLModel",
       "_view_count": null,
       "_view_module": "@jupyter-widgets/controls",
       "_view_module_version": "2.0.0",
       "_view_name": "HTMLView",
       "description": "",
       "description_allow_html": false,
       "layout": "IPY_MODEL_af62b21142644aeabd772b99a41e9062",
       "placeholder": "​",
       "style": "IPY_MODEL_4c6dab88fa3045a6abbc451f43555c5b",
       "tabbable": null,
       "tooltip": null,
       "value": " 2029/2029 [00:00&lt;00:00, 2489.69 examples/s]"
      }
     },
     "1aa9c53dc14a453b9ea113d04dced320": {
      "model_module": "@jupyter-widgets/controls",
      "model_module_version": "2.0.0",
      "model_name": "ProgressStyleModel",
      "state": {
       "_model_module": "@jupyter-widgets/controls",
       "_model_module_version": "2.0.0",
       "_model_name": "ProgressStyleModel",
       "_view_count": null,
       "_view_module": "@jupyter-widgets/base",
       "_view_module_version": "2.0.0",
       "_view_name": "StyleView",
       "bar_color": null,
       "description_width": ""
      }
     },
     "20e5078afb87489399fe3c918d1c4239": {
      "model_module": "@jupyter-widgets/controls",
      "model_module_version": "2.0.0",
      "model_name": "HTMLModel",
      "state": {
       "_dom_classes": [],
       "_model_module": "@jupyter-widgets/controls",
       "_model_module_version": "2.0.0",
       "_model_name": "HTMLModel",
       "_view_count": null,
       "_view_module": "@jupyter-widgets/controls",
       "_view_module_version": "2.0.0",
       "_view_name": "HTMLView",
       "description": "",
       "description_allow_html": false,
       "layout": "IPY_MODEL_286ffa7c279948deb0f168a7372e9f94",
       "placeholder": "​",
       "style": "IPY_MODEL_bab1aab0f1ae43dd93ac9204f76930fe",
       "tabbable": null,
       "tooltip": null,
       "value": " 20/20 [00:00&lt;00:00, 1140.83 examples/s]"
      }
     },
     "23ca2990e5d14ba8b2d84294e2eb47d1": {
      "model_module": "@jupyter-widgets/base",
      "model_module_version": "2.0.0",
      "model_name": "LayoutModel",
      "state": {
       "_model_module": "@jupyter-widgets/base",
       "_model_module_version": "2.0.0",
       "_model_name": "LayoutModel",
       "_view_count": null,
       "_view_module": "@jupyter-widgets/base",
       "_view_module_version": "2.0.0",
       "_view_name": "LayoutView",
       "align_content": null,
       "align_items": null,
       "align_self": null,
       "border_bottom": null,
       "border_left": null,
       "border_right": null,
       "border_top": null,
       "bottom": null,
       "display": null,
       "flex": null,
       "flex_flow": null,
       "grid_area": null,
       "grid_auto_columns": null,
       "grid_auto_flow": null,
       "grid_auto_rows": null,
       "grid_column": null,
       "grid_gap": null,
       "grid_row": null,
       "grid_template_areas": null,
       "grid_template_columns": null,
       "grid_template_rows": null,
       "height": null,
       "justify_content": null,
       "justify_items": null,
       "left": null,
       "margin": null,
       "max_height": null,
       "max_width": null,
       "min_height": null,
       "min_width": null,
       "object_fit": null,
       "object_position": null,
       "order": null,
       "overflow": null,
       "padding": null,
       "right": null,
       "top": null,
       "visibility": null,
       "width": null
      }
     },
     "25e9aa58552e42af931eb73881ed2ec6": {
      "model_module": "@jupyter-widgets/controls",
      "model_module_version": "2.0.0",
      "model_name": "HTMLStyleModel",
      "state": {
       "_model_module": "@jupyter-widgets/controls",
       "_model_module_version": "2.0.0",
       "_model_name": "HTMLStyleModel",
       "_view_count": null,
       "_view_module": "@jupyter-widgets/base",
       "_view_module_version": "2.0.0",
       "_view_name": "StyleView",
       "background": null,
       "description_width": "",
       "font_size": null,
       "text_color": null
      }
     },
     "2755a15bef0c4939aae953fe81c51f39": {
      "model_module": "@jupyter-widgets/controls",
      "model_module_version": "2.0.0",
      "model_name": "ProgressStyleModel",
      "state": {
       "_model_module": "@jupyter-widgets/controls",
       "_model_module_version": "2.0.0",
       "_model_name": "ProgressStyleModel",
       "_view_count": null,
       "_view_module": "@jupyter-widgets/base",
       "_view_module_version": "2.0.0",
       "_view_name": "StyleView",
       "bar_color": null,
       "description_width": ""
      }
     },
     "286ffa7c279948deb0f168a7372e9f94": {
      "model_module": "@jupyter-widgets/base",
      "model_module_version": "2.0.0",
      "model_name": "LayoutModel",
      "state": {
       "_model_module": "@jupyter-widgets/base",
       "_model_module_version": "2.0.0",
       "_model_name": "LayoutModel",
       "_view_count": null,
       "_view_module": "@jupyter-widgets/base",
       "_view_module_version": "2.0.0",
       "_view_name": "LayoutView",
       "align_content": null,
       "align_items": null,
       "align_self": null,
       "border_bottom": null,
       "border_left": null,
       "border_right": null,
       "border_top": null,
       "bottom": null,
       "display": null,
       "flex": null,
       "flex_flow": null,
       "grid_area": null,
       "grid_auto_columns": null,
       "grid_auto_flow": null,
       "grid_auto_rows": null,
       "grid_column": null,
       "grid_gap": null,
       "grid_row": null,
       "grid_template_areas": null,
       "grid_template_columns": null,
       "grid_template_rows": null,
       "height": null,
       "justify_content": null,
       "justify_items": null,
       "left": null,
       "margin": null,
       "max_height": null,
       "max_width": null,
       "min_height": null,
       "min_width": null,
       "object_fit": null,
       "object_position": null,
       "order": null,
       "overflow": null,
       "padding": null,
       "right": null,
       "top": null,
       "visibility": null,
       "width": null
      }
     },
     "2915c6e28b17448a8e2c95ae544c503a": {
      "model_module": "@jupyter-widgets/controls",
      "model_module_version": "2.0.0",
      "model_name": "HTMLStyleModel",
      "state": {
       "_model_module": "@jupyter-widgets/controls",
       "_model_module_version": "2.0.0",
       "_model_name": "HTMLStyleModel",
       "_view_count": null,
       "_view_module": "@jupyter-widgets/base",
       "_view_module_version": "2.0.0",
       "_view_name": "StyleView",
       "background": null,
       "description_width": "",
       "font_size": null,
       "text_color": null
      }
     },
     "4c6dab88fa3045a6abbc451f43555c5b": {
      "model_module": "@jupyter-widgets/controls",
      "model_module_version": "2.0.0",
      "model_name": "HTMLStyleModel",
      "state": {
       "_model_module": "@jupyter-widgets/controls",
       "_model_module_version": "2.0.0",
       "_model_name": "HTMLStyleModel",
       "_view_count": null,
       "_view_module": "@jupyter-widgets/base",
       "_view_module_version": "2.0.0",
       "_view_name": "StyleView",
       "background": null,
       "description_width": "",
       "font_size": null,
       "text_color": null
      }
     },
     "6284ac5b97d6473897d99668a1432111": {
      "model_module": "@jupyter-widgets/controls",
      "model_module_version": "2.0.0",
      "model_name": "FloatProgressModel",
      "state": {
       "_dom_classes": [],
       "_model_module": "@jupyter-widgets/controls",
       "_model_module_version": "2.0.0",
       "_model_name": "FloatProgressModel",
       "_view_count": null,
       "_view_module": "@jupyter-widgets/controls",
       "_view_module_version": "2.0.0",
       "_view_name": "ProgressView",
       "bar_style": "success",
       "description": "",
       "description_allow_html": false,
       "layout": "IPY_MODEL_ac0c84c5f0b84c62b8a46713e1f45bae",
       "max": 2029.0,
       "min": 0.0,
       "orientation": "horizontal",
       "style": "IPY_MODEL_bbe93f0b76d549f99e2ecdf2a658350c",
       "tabbable": null,
       "tooltip": null,
       "value": 2029.0
      }
     },
     "671adb916ea641558e5b6669f5588f20": {
      "model_module": "@jupyter-widgets/controls",
      "model_module_version": "2.0.0",
      "model_name": "HBoxModel",
      "state": {
       "_dom_classes": [],
       "_model_module": "@jupyter-widgets/controls",
       "_model_module_version": "2.0.0",
       "_model_name": "HBoxModel",
       "_view_count": null,
       "_view_module": "@jupyter-widgets/controls",
       "_view_module_version": "2.0.0",
       "_view_name": "HBoxView",
       "box_style": "",
       "children": [
        "IPY_MODEL_e58e3456c2d0430ebca517d9096f87ea",
        "IPY_MODEL_de9077ec53374471bc86dfd852928fc0",
        "IPY_MODEL_a24fbe1bf28c4e85a0434d810a03b2da"
       ],
       "layout": "IPY_MODEL_da16514c1a934ecb91346208eb989d16",
       "tabbable": null,
       "tooltip": null
      }
     },
     "692e3d144b984efc8e86af485251f097": {
      "model_module": "@jupyter-widgets/controls",
      "model_module_version": "2.0.0",
      "model_name": "ProgressStyleModel",
      "state": {
       "_model_module": "@jupyter-widgets/controls",
       "_model_module_version": "2.0.0",
       "_model_name": "ProgressStyleModel",
       "_view_count": null,
       "_view_module": "@jupyter-widgets/base",
       "_view_module_version": "2.0.0",
       "_view_name": "StyleView",
       "bar_color": null,
       "description_width": ""
      }
     },
     "7575cd2fc68a47e4a26bbe6777553937": {
      "model_module": "@jupyter-widgets/controls",
      "model_module_version": "2.0.0",
      "model_name": "HTMLModel",
      "state": {
       "_dom_classes": [],
       "_model_module": "@jupyter-widgets/controls",
       "_model_module_version": "2.0.0",
       "_model_name": "HTMLModel",
       "_view_count": null,
       "_view_module": "@jupyter-widgets/controls",
       "_view_module_version": "2.0.0",
       "_view_name": "HTMLView",
       "description": "",
       "description_allow_html": false,
       "layout": "IPY_MODEL_10e1980282d3464380e009145d24973b",
       "placeholder": "​",
       "style": "IPY_MODEL_9fcf1ac0d6bb4e799696839b8a3d0ace",
       "tabbable": null,
       "tooltip": null,
       "value": " 10/10 [00:00&lt;00:00, 560.86 examples/s]"
      }
     },
     "86db39308a29403f9775233a49b94f6a": {
      "model_module": "@jupyter-widgets/base",
      "model_module_version": "2.0.0",
      "model_name": "LayoutModel",
      "state": {
       "_model_module": "@jupyter-widgets/base",
       "_model_module_version": "2.0.0",
       "_model_name": "LayoutModel",
       "_view_count": null,
       "_view_module": "@jupyter-widgets/base",
       "_view_module_version": "2.0.0",
       "_view_name": "LayoutView",
       "align_content": null,
       "align_items": null,
       "align_self": null,
       "border_bottom": null,
       "border_left": null,
       "border_right": null,
       "border_top": null,
       "bottom": null,
       "display": null,
       "flex": null,
       "flex_flow": null,
       "grid_area": null,
       "grid_auto_columns": null,
       "grid_auto_flow": null,
       "grid_auto_rows": null,
       "grid_column": null,
       "grid_gap": null,
       "grid_row": null,
       "grid_template_areas": null,
       "grid_template_columns": null,
       "grid_template_rows": null,
       "height": null,
       "justify_content": null,
       "justify_items": null,
       "left": null,
       "margin": null,
       "max_height": null,
       "max_width": null,
       "min_height": null,
       "min_width": null,
       "object_fit": null,
       "object_position": null,
       "order": null,
       "overflow": null,
       "padding": null,
       "right": null,
       "top": null,
       "visibility": null,
       "width": null
      }
     },
     "88f1bbae37da42938b9e69699ec14e72": {
      "model_module": "@jupyter-widgets/controls",
      "model_module_version": "2.0.0",
      "model_name": "HBoxModel",
      "state": {
       "_dom_classes": [],
       "_model_module": "@jupyter-widgets/controls",
       "_model_module_version": "2.0.0",
       "_model_name": "HBoxModel",
       "_view_count": null,
       "_view_module": "@jupyter-widgets/controls",
       "_view_module_version": "2.0.0",
       "_view_name": "HBoxView",
       "box_style": "",
       "children": [
        "IPY_MODEL_9dfe4823a0054cdabda76ff8dd2de47b",
        "IPY_MODEL_e1b1fa55c3ec45d4bd8bc69fae8a1d99",
        "IPY_MODEL_7575cd2fc68a47e4a26bbe6777553937"
       ],
       "layout": "IPY_MODEL_a939ccd91b694af1a250a82456af1775",
       "tabbable": null,
       "tooltip": null
      }
     },
     "907a5109b69e492e9888f43609faae89": {
      "model_module": "@jupyter-widgets/base",
      "model_module_version": "2.0.0",
      "model_name": "LayoutModel",
      "state": {
       "_model_module": "@jupyter-widgets/base",
       "_model_module_version": "2.0.0",
       "_model_name": "LayoutModel",
       "_view_count": null,
       "_view_module": "@jupyter-widgets/base",
       "_view_module_version": "2.0.0",
       "_view_name": "LayoutView",
       "align_content": null,
       "align_items": null,
       "align_self": null,
       "border_bottom": null,
       "border_left": null,
       "border_right": null,
       "border_top": null,
       "bottom": null,
       "display": null,
       "flex": null,
       "flex_flow": null,
       "grid_area": null,
       "grid_auto_columns": null,
       "grid_auto_flow": null,
       "grid_auto_rows": null,
       "grid_column": null,
       "grid_gap": null,
       "grid_row": null,
       "grid_template_areas": null,
       "grid_template_columns": null,
       "grid_template_rows": null,
       "height": null,
       "justify_content": null,
       "justify_items": null,
       "left": null,
       "margin": null,
       "max_height": null,
       "max_width": null,
       "min_height": null,
       "min_width": null,
       "object_fit": null,
       "object_position": null,
       "order": null,
       "overflow": null,
       "padding": null,
       "right": null,
       "top": null,
       "visibility": null,
       "width": null
      }
     },
     "9806442962284f7abfaaf6de79a84fb3": {
      "model_module": "@jupyter-widgets/controls",
      "model_module_version": "2.0.0",
      "model_name": "FloatProgressModel",
      "state": {
       "_dom_classes": [],
       "_model_module": "@jupyter-widgets/controls",
       "_model_module_version": "2.0.0",
       "_model_name": "FloatProgressModel",
       "_view_count": null,
       "_view_module": "@jupyter-widgets/controls",
       "_view_module_version": "2.0.0",
       "_view_name": "ProgressView",
       "bar_style": "success",
       "description": "",
       "description_allow_html": false,
       "layout": "IPY_MODEL_0ef32fcd94c64b0495a541821d3531b6",
       "max": 20.0,
       "min": 0.0,
       "orientation": "horizontal",
       "style": "IPY_MODEL_692e3d144b984efc8e86af485251f097",
       "tabbable": null,
       "tooltip": null,
       "value": 20.0
      }
     },
     "9dfe4823a0054cdabda76ff8dd2de47b": {
      "model_module": "@jupyter-widgets/controls",
      "model_module_version": "2.0.0",
      "model_name": "HTMLModel",
      "state": {
       "_dom_classes": [],
       "_model_module": "@jupyter-widgets/controls",
       "_model_module_version": "2.0.0",
       "_model_name": "HTMLModel",
       "_view_count": null,
       "_view_module": "@jupyter-widgets/controls",
       "_view_module_version": "2.0.0",
       "_view_name": "HTMLView",
       "description": "",
       "description_allow_html": false,
       "layout": "IPY_MODEL_ea14d2b91b294d648eeeaffba0785103",
       "placeholder": "​",
       "style": "IPY_MODEL_be9f64c4075a4f3f90417baf3179ee0e",
       "tabbable": null,
       "tooltip": null,
       "value": "Map: 100%"
      }
     },
     "9fcf1ac0d6bb4e799696839b8a3d0ace": {
      "model_module": "@jupyter-widgets/controls",
      "model_module_version": "2.0.0",
      "model_name": "HTMLStyleModel",
      "state": {
       "_model_module": "@jupyter-widgets/controls",
       "_model_module_version": "2.0.0",
       "_model_name": "HTMLStyleModel",
       "_view_count": null,
       "_view_module": "@jupyter-widgets/base",
       "_view_module_version": "2.0.0",
       "_view_name": "StyleView",
       "background": null,
       "description_width": "",
       "font_size": null,
       "text_color": null
      }
     },
     "a24fbe1bf28c4e85a0434d810a03b2da": {
      "model_module": "@jupyter-widgets/controls",
      "model_module_version": "2.0.0",
      "model_name": "HTMLModel",
      "state": {
       "_dom_classes": [],
       "_model_module": "@jupyter-widgets/controls",
       "_model_module_version": "2.0.0",
       "_model_name": "HTMLModel",
       "_view_count": null,
       "_view_module": "@jupyter-widgets/controls",
       "_view_module_version": "2.0.0",
       "_view_name": "HTMLView",
       "description": "",
       "description_allow_html": false,
       "layout": "IPY_MODEL_f4f7c9258c1c46efa94d5bcb43ae76a8",
       "placeholder": "​",
       "style": "IPY_MODEL_d28ec502211b4e9f95b7751bf9d2bde4",
       "tabbable": null,
       "tooltip": null,
       "value": " 2297/2297 [00:00&lt;00:00, 3392.10 examples/s]"
      }
     },
     "a3abefa3e2e84fefa6e38b9872802224": {
      "model_module": "@jupyter-widgets/controls",
      "model_module_version": "2.0.0",
      "model_name": "HTMLStyleModel",
      "state": {
       "_model_module": "@jupyter-widgets/controls",
       "_model_module_version": "2.0.0",
       "_model_name": "HTMLStyleModel",
       "_view_count": null,
       "_view_module": "@jupyter-widgets/base",
       "_view_module_version": "2.0.0",
       "_view_name": "StyleView",
       "background": null,
       "description_width": "",
       "font_size": null,
       "text_color": null
      }
     },
     "a8be5b71e6fe43c6a97c8ab19f900050": {
      "model_module": "@jupyter-widgets/controls",
      "model_module_version": "2.0.0",
      "model_name": "HTMLStyleModel",
      "state": {
       "_model_module": "@jupyter-widgets/controls",
       "_model_module_version": "2.0.0",
       "_model_name": "HTMLStyleModel",
       "_view_count": null,
       "_view_module": "@jupyter-widgets/base",
       "_view_module_version": "2.0.0",
       "_view_name": "StyleView",
       "background": null,
       "description_width": "",
       "font_size": null,
       "text_color": null
      }
     },
     "a939ccd91b694af1a250a82456af1775": {
      "model_module": "@jupyter-widgets/base",
      "model_module_version": "2.0.0",
      "model_name": "LayoutModel",
      "state": {
       "_model_module": "@jupyter-widgets/base",
       "_model_module_version": "2.0.0",
       "_model_name": "LayoutModel",
       "_view_count": null,
       "_view_module": "@jupyter-widgets/base",
       "_view_module_version": "2.0.0",
       "_view_name": "LayoutView",
       "align_content": null,
       "align_items": null,
       "align_self": null,
       "border_bottom": null,
       "border_left": null,
       "border_right": null,
       "border_top": null,
       "bottom": null,
       "display": null,
       "flex": null,
       "flex_flow": null,
       "grid_area": null,
       "grid_auto_columns": null,
       "grid_auto_flow": null,
       "grid_auto_rows": null,
       "grid_column": null,
       "grid_gap": null,
       "grid_row": null,
       "grid_template_areas": null,
       "grid_template_columns": null,
       "grid_template_rows": null,
       "height": null,
       "justify_content": null,
       "justify_items": null,
       "left": null,
       "margin": null,
       "max_height": null,
       "max_width": null,
       "min_height": null,
       "min_width": null,
       "object_fit": null,
       "object_position": null,
       "order": null,
       "overflow": null,
       "padding": null,
       "right": null,
       "top": null,
       "visibility": null,
       "width": null
      }
     },
     "ac0c84c5f0b84c62b8a46713e1f45bae": {
      "model_module": "@jupyter-widgets/base",
      "model_module_version": "2.0.0",
      "model_name": "LayoutModel",
      "state": {
       "_model_module": "@jupyter-widgets/base",
       "_model_module_version": "2.0.0",
       "_model_name": "LayoutModel",
       "_view_count": null,
       "_view_module": "@jupyter-widgets/base",
       "_view_module_version": "2.0.0",
       "_view_name": "LayoutView",
       "align_content": null,
       "align_items": null,
       "align_self": null,
       "border_bottom": null,
       "border_left": null,
       "border_right": null,
       "border_top": null,
       "bottom": null,
       "display": null,
       "flex": null,
       "flex_flow": null,
       "grid_area": null,
       "grid_auto_columns": null,
       "grid_auto_flow": null,
       "grid_auto_rows": null,
       "grid_column": null,
       "grid_gap": null,
       "grid_row": null,
       "grid_template_areas": null,
       "grid_template_columns": null,
       "grid_template_rows": null,
       "height": null,
       "justify_content": null,
       "justify_items": null,
       "left": null,
       "margin": null,
       "max_height": null,
       "max_width": null,
       "min_height": null,
       "min_width": null,
       "object_fit": null,
       "object_position": null,
       "order": null,
       "overflow": null,
       "padding": null,
       "right": null,
       "top": null,
       "visibility": null,
       "width": null
      }
     },
     "af62b21142644aeabd772b99a41e9062": {
      "model_module": "@jupyter-widgets/base",
      "model_module_version": "2.0.0",
      "model_name": "LayoutModel",
      "state": {
       "_model_module": "@jupyter-widgets/base",
       "_model_module_version": "2.0.0",
       "_model_name": "LayoutModel",
       "_view_count": null,
       "_view_module": "@jupyter-widgets/base",
       "_view_module_version": "2.0.0",
       "_view_name": "LayoutView",
       "align_content": null,
       "align_items": null,
       "align_self": null,
       "border_bottom": null,
       "border_left": null,
       "border_right": null,
       "border_top": null,
       "bottom": null,
       "display": null,
       "flex": null,
       "flex_flow": null,
       "grid_area": null,
       "grid_auto_columns": null,
       "grid_auto_flow": null,
       "grid_auto_rows": null,
       "grid_column": null,
       "grid_gap": null,
       "grid_row": null,
       "grid_template_areas": null,
       "grid_template_columns": null,
       "grid_template_rows": null,
       "height": null,
       "justify_content": null,
       "justify_items": null,
       "left": null,
       "margin": null,
       "max_height": null,
       "max_width": null,
       "min_height": null,
       "min_width": null,
       "object_fit": null,
       "object_position": null,
       "order": null,
       "overflow": null,
       "padding": null,
       "right": null,
       "top": null,
       "visibility": null,
       "width": null
      }
     },
     "b460e4a04f0248aab4e287a65bb5bec9": {
      "model_module": "@jupyter-widgets/controls",
      "model_module_version": "2.0.0",
      "model_name": "FloatProgressModel",
      "state": {
       "_dom_classes": [],
       "_model_module": "@jupyter-widgets/controls",
       "_model_module_version": "2.0.0",
       "_model_name": "FloatProgressModel",
       "_view_count": null,
       "_view_module": "@jupyter-widgets/controls",
       "_view_module_version": "2.0.0",
       "_view_name": "ProgressView",
       "bar_style": "success",
       "description": "",
       "description_allow_html": false,
       "layout": "IPY_MODEL_23ca2990e5d14ba8b2d84294e2eb47d1",
       "max": 20.0,
       "min": 0.0,
       "orientation": "horizontal",
       "style": "IPY_MODEL_d0e5778b59424402a9519ef8b0e3cb77",
       "tabbable": null,
       "tooltip": null,
       "value": 20.0
      }
     },
     "b52c7f9d957448f9b6a84db6d98a073b": {
      "model_module": "@jupyter-widgets/controls",
      "model_module_version": "2.0.0",
      "model_name": "HBoxModel",
      "state": {
       "_dom_classes": [],
       "_model_module": "@jupyter-widgets/controls",
       "_model_module_version": "2.0.0",
       "_model_name": "HBoxModel",
       "_view_count": null,
       "_view_module": "@jupyter-widgets/controls",
       "_view_module_version": "2.0.0",
       "_view_name": "HBoxView",
       "box_style": "",
       "children": [
        "IPY_MODEL_ca231e6dc8da40ae88dd9ee356ac7fa8",
        "IPY_MODEL_6284ac5b97d6473897d99668a1432111",
        "IPY_MODEL_111f4b44df5d433ca6766209b5c25285"
       ],
       "layout": "IPY_MODEL_86db39308a29403f9775233a49b94f6a",
       "tabbable": null,
       "tooltip": null
      }
     },
     "b7a64f063b30461290b30912ef6082d6": {
      "model_module": "@jupyter-widgets/controls",
      "model_module_version": "2.0.0",
      "model_name": "HTMLModel",
      "state": {
       "_dom_classes": [],
       "_model_module": "@jupyter-widgets/controls",
       "_model_module_version": "2.0.0",
       "_model_name": "HTMLModel",
       "_view_count": null,
       "_view_module": "@jupyter-widgets/controls",
       "_view_module_version": "2.0.0",
       "_view_name": "HTMLView",
       "description": "",
       "description_allow_html": false,
       "layout": "IPY_MODEL_f5fc2b17c4904adf9edda96aa9969f2f",
       "placeholder": "​",
       "style": "IPY_MODEL_25e9aa58552e42af931eb73881ed2ec6",
       "tabbable": null,
       "tooltip": null,
       "value": " 20/20 [00:00&lt;00:00, 924.76 examples/s]"
      }
     },
     "b83c677a3cf6432f92c5d0e51021d167": {
      "model_module": "@jupyter-widgets/base",
      "model_module_version": "2.0.0",
      "model_name": "LayoutModel",
      "state": {
       "_model_module": "@jupyter-widgets/base",
       "_model_module_version": "2.0.0",
       "_model_name": "LayoutModel",
       "_view_count": null,
       "_view_module": "@jupyter-widgets/base",
       "_view_module_version": "2.0.0",
       "_view_name": "LayoutView",
       "align_content": null,
       "align_items": null,
       "align_self": null,
       "border_bottom": null,
       "border_left": null,
       "border_right": null,
       "border_top": null,
       "bottom": null,
       "display": null,
       "flex": null,
       "flex_flow": null,
       "grid_area": null,
       "grid_auto_columns": null,
       "grid_auto_flow": null,
       "grid_auto_rows": null,
       "grid_column": null,
       "grid_gap": null,
       "grid_row": null,
       "grid_template_areas": null,
       "grid_template_columns": null,
       "grid_template_rows": null,
       "height": null,
       "justify_content": null,
       "justify_items": null,
       "left": null,
       "margin": null,
       "max_height": null,
       "max_width": null,
       "min_height": null,
       "min_width": null,
       "object_fit": null,
       "object_position": null,
       "order": null,
       "overflow": null,
       "padding": null,
       "right": null,
       "top": null,
       "visibility": null,
       "width": null
      }
     },
     "bab1aab0f1ae43dd93ac9204f76930fe": {
      "model_module": "@jupyter-widgets/controls",
      "model_module_version": "2.0.0",
      "model_name": "HTMLStyleModel",
      "state": {
       "_model_module": "@jupyter-widgets/controls",
       "_model_module_version": "2.0.0",
       "_model_name": "HTMLStyleModel",
       "_view_count": null,
       "_view_module": "@jupyter-widgets/base",
       "_view_module_version": "2.0.0",
       "_view_name": "StyleView",
       "background": null,
       "description_width": "",
       "font_size": null,
       "text_color": null
      }
     },
     "bb10ae9ea48e44c4b492b46beb5260e9": {
      "model_module": "@jupyter-widgets/base",
      "model_module_version": "2.0.0",
      "model_name": "LayoutModel",
      "state": {
       "_model_module": "@jupyter-widgets/base",
       "_model_module_version": "2.0.0",
       "_model_name": "LayoutModel",
       "_view_count": null,
       "_view_module": "@jupyter-widgets/base",
       "_view_module_version": "2.0.0",
       "_view_name": "LayoutView",
       "align_content": null,
       "align_items": null,
       "align_self": null,
       "border_bottom": null,
       "border_left": null,
       "border_right": null,
       "border_top": null,
       "bottom": null,
       "display": null,
       "flex": null,
       "flex_flow": null,
       "grid_area": null,
       "grid_auto_columns": null,
       "grid_auto_flow": null,
       "grid_auto_rows": null,
       "grid_column": null,
       "grid_gap": null,
       "grid_row": null,
       "grid_template_areas": null,
       "grid_template_columns": null,
       "grid_template_rows": null,
       "height": null,
       "justify_content": null,
       "justify_items": null,
       "left": null,
       "margin": null,
       "max_height": null,
       "max_width": null,
       "min_height": null,
       "min_width": null,
       "object_fit": null,
       "object_position": null,
       "order": null,
       "overflow": null,
       "padding": null,
       "right": null,
       "top": null,
       "visibility": null,
       "width": null
      }
     },
     "bbe93f0b76d549f99e2ecdf2a658350c": {
      "model_module": "@jupyter-widgets/controls",
      "model_module_version": "2.0.0",
      "model_name": "ProgressStyleModel",
      "state": {
       "_model_module": "@jupyter-widgets/controls",
       "_model_module_version": "2.0.0",
       "_model_name": "ProgressStyleModel",
       "_view_count": null,
       "_view_module": "@jupyter-widgets/base",
       "_view_module_version": "2.0.0",
       "_view_name": "StyleView",
       "bar_color": null,
       "description_width": ""
      }
     },
     "be9f64c4075a4f3f90417baf3179ee0e": {
      "model_module": "@jupyter-widgets/controls",
      "model_module_version": "2.0.0",
      "model_name": "HTMLStyleModel",
      "state": {
       "_model_module": "@jupyter-widgets/controls",
       "_model_module_version": "2.0.0",
       "_model_name": "HTMLStyleModel",
       "_view_count": null,
       "_view_module": "@jupyter-widgets/base",
       "_view_module_version": "2.0.0",
       "_view_name": "StyleView",
       "background": null,
       "description_width": "",
       "font_size": null,
       "text_color": null
      }
     },
     "c5eb337a3a1846cdbea654dbbd43f0c0": {
      "model_module": "@jupyter-widgets/controls",
      "model_module_version": "2.0.0",
      "model_name": "HTMLModel",
      "state": {
       "_dom_classes": [],
       "_model_module": "@jupyter-widgets/controls",
       "_model_module_version": "2.0.0",
       "_model_name": "HTMLModel",
       "_view_count": null,
       "_view_module": "@jupyter-widgets/controls",
       "_view_module_version": "2.0.0",
       "_view_name": "HTMLView",
       "description": "",
       "description_allow_html": false,
       "layout": "IPY_MODEL_db9068ce9e17402384a40f133bda5ea6",
       "placeholder": "​",
       "style": "IPY_MODEL_a3abefa3e2e84fefa6e38b9872802224",
       "tabbable": null,
       "tooltip": null,
       "value": "Filter: 100%"
      }
     },
     "ca231e6dc8da40ae88dd9ee356ac7fa8": {
      "model_module": "@jupyter-widgets/controls",
      "model_module_version": "2.0.0",
      "model_name": "HTMLModel",
      "state": {
       "_dom_classes": [],
       "_model_module": "@jupyter-widgets/controls",
       "_model_module_version": "2.0.0",
       "_model_name": "HTMLModel",
       "_view_count": null,
       "_view_module": "@jupyter-widgets/controls",
       "_view_module_version": "2.0.0",
       "_view_name": "HTMLView",
       "description": "",
       "description_allow_html": false,
       "layout": "IPY_MODEL_f227cee1f2424f4ea8b46bf78eb15a3a",
       "placeholder": "​",
       "style": "IPY_MODEL_eb6789fab3f04493913ff84e68a708c5",
       "tabbable": null,
       "tooltip": null,
       "value": "Map: 100%"
      }
     },
     "d0e5778b59424402a9519ef8b0e3cb77": {
      "model_module": "@jupyter-widgets/controls",
      "model_module_version": "2.0.0",
      "model_name": "ProgressStyleModel",
      "state": {
       "_model_module": "@jupyter-widgets/controls",
       "_model_module_version": "2.0.0",
       "_model_name": "ProgressStyleModel",
       "_view_count": null,
       "_view_module": "@jupyter-widgets/base",
       "_view_module_version": "2.0.0",
       "_view_name": "StyleView",
       "bar_color": null,
       "description_width": ""
      }
     },
     "d28ec502211b4e9f95b7751bf9d2bde4": {
      "model_module": "@jupyter-widgets/controls",
      "model_module_version": "2.0.0",
      "model_name": "HTMLStyleModel",
      "state": {
       "_model_module": "@jupyter-widgets/controls",
       "_model_module_version": "2.0.0",
       "_model_name": "HTMLStyleModel",
       "_view_count": null,
       "_view_module": "@jupyter-widgets/base",
       "_view_module_version": "2.0.0",
       "_view_name": "StyleView",
       "background": null,
       "description_width": "",
       "font_size": null,
       "text_color": null
      }
     },
     "da0b6f13819d481cb20bd120da7787af": {
      "model_module": "@jupyter-widgets/controls",
      "model_module_version": "2.0.0",
      "model_name": "HBoxModel",
      "state": {
       "_dom_classes": [],
       "_model_module": "@jupyter-widgets/controls",
       "_model_module_version": "2.0.0",
       "_model_name": "HBoxModel",
       "_view_count": null,
       "_view_module": "@jupyter-widgets/controls",
       "_view_module_version": "2.0.0",
       "_view_name": "HBoxView",
       "box_style": "",
       "children": [
        "IPY_MODEL_c5eb337a3a1846cdbea654dbbd43f0c0",
        "IPY_MODEL_9806442962284f7abfaaf6de79a84fb3",
        "IPY_MODEL_20e5078afb87489399fe3c918d1c4239"
       ],
       "layout": "IPY_MODEL_09b4ecc7a5ed454dac46e0ee9ac203ca",
       "tabbable": null,
       "tooltip": null
      }
     },
     "da16514c1a934ecb91346208eb989d16": {
      "model_module": "@jupyter-widgets/base",
      "model_module_version": "2.0.0",
      "model_name": "LayoutModel",
      "state": {
       "_model_module": "@jupyter-widgets/base",
       "_model_module_version": "2.0.0",
       "_model_name": "LayoutModel",
       "_view_count": null,
       "_view_module": "@jupyter-widgets/base",
       "_view_module_version": "2.0.0",
       "_view_name": "LayoutView",
       "align_content": null,
       "align_items": null,
       "align_self": null,
       "border_bottom": null,
       "border_left": null,
       "border_right": null,
       "border_top": null,
       "bottom": null,
       "display": null,
       "flex": null,
       "flex_flow": null,
       "grid_area": null,
       "grid_auto_columns": null,
       "grid_auto_flow": null,
       "grid_auto_rows": null,
       "grid_column": null,
       "grid_gap": null,
       "grid_row": null,
       "grid_template_areas": null,
       "grid_template_columns": null,
       "grid_template_rows": null,
       "height": null,
       "justify_content": null,
       "justify_items": null,
       "left": null,
       "margin": null,
       "max_height": null,
       "max_width": null,
       "min_height": null,
       "min_width": null,
       "object_fit": null,
       "object_position": null,
       "order": null,
       "overflow": null,
       "padding": null,
       "right": null,
       "top": null,
       "visibility": null,
       "width": null
      }
     },
     "db9068ce9e17402384a40f133bda5ea6": {
      "model_module": "@jupyter-widgets/base",
      "model_module_version": "2.0.0",
      "model_name": "LayoutModel",
      "state": {
       "_model_module": "@jupyter-widgets/base",
       "_model_module_version": "2.0.0",
       "_model_name": "LayoutModel",
       "_view_count": null,
       "_view_module": "@jupyter-widgets/base",
       "_view_module_version": "2.0.0",
       "_view_name": "LayoutView",
       "align_content": null,
       "align_items": null,
       "align_self": null,
       "border_bottom": null,
       "border_left": null,
       "border_right": null,
       "border_top": null,
       "bottom": null,
       "display": null,
       "flex": null,
       "flex_flow": null,
       "grid_area": null,
       "grid_auto_columns": null,
       "grid_auto_flow": null,
       "grid_auto_rows": null,
       "grid_column": null,
       "grid_gap": null,
       "grid_row": null,
       "grid_template_areas": null,
       "grid_template_columns": null,
       "grid_template_rows": null,
       "height": null,
       "justify_content": null,
       "justify_items": null,
       "left": null,
       "margin": null,
       "max_height": null,
       "max_width": null,
       "min_height": null,
       "min_width": null,
       "object_fit": null,
       "object_position": null,
       "order": null,
       "overflow": null,
       "padding": null,
       "right": null,
       "top": null,
       "visibility": null,
       "width": null
      }
     },
     "de9077ec53374471bc86dfd852928fc0": {
      "model_module": "@jupyter-widgets/controls",
      "model_module_version": "2.0.0",
      "model_name": "FloatProgressModel",
      "state": {
       "_dom_classes": [],
       "_model_module": "@jupyter-widgets/controls",
       "_model_module_version": "2.0.0",
       "_model_name": "FloatProgressModel",
       "_view_count": null,
       "_view_module": "@jupyter-widgets/controls",
       "_view_module_version": "2.0.0",
       "_view_name": "ProgressView",
       "bar_style": "success",
       "description": "",
       "description_allow_html": false,
       "layout": "IPY_MODEL_0a272bc5d8d14b0da8965cfe303e8113",
       "max": 2297.0,
       "min": 0.0,
       "orientation": "horizontal",
       "style": "IPY_MODEL_2755a15bef0c4939aae953fe81c51f39",
       "tabbable": null,
       "tooltip": null,
       "value": 2297.0
      }
     },
     "e0011a3a415f4e7694c288af7c956e1b": {
      "model_module": "@jupyter-widgets/controls",
      "model_module_version": "2.0.0",
      "model_name": "HTMLModel",
      "state": {
       "_dom_classes": [],
       "_model_module": "@jupyter-widgets/controls",
       "_model_module_version": "2.0.0",
       "_model_name": "HTMLModel",
       "_view_count": null,
       "_view_module": "@jupyter-widgets/controls",
       "_view_module_version": "2.0.0",
       "_view_name": "HTMLView",
       "description": "",
       "description_allow_html": false,
       "layout": "IPY_MODEL_907a5109b69e492e9888f43609faae89",
       "placeholder": "​",
       "style": "IPY_MODEL_a8be5b71e6fe43c6a97c8ab19f900050",
       "tabbable": null,
       "tooltip": null,
       "value": "Map: 100%"
      }
     },
     "e1b1fa55c3ec45d4bd8bc69fae8a1d99": {
      "model_module": "@jupyter-widgets/controls",
      "model_module_version": "2.0.0",
      "model_name": "FloatProgressModel",
      "state": {
       "_dom_classes": [],
       "_model_module": "@jupyter-widgets/controls",
       "_model_module_version": "2.0.0",
       "_model_name": "FloatProgressModel",
       "_view_count": null,
       "_view_module": "@jupyter-widgets/controls",
       "_view_module_version": "2.0.0",
       "_view_name": "ProgressView",
       "bar_style": "success",
       "description": "",
       "description_allow_html": false,
       "layout": "IPY_MODEL_b83c677a3cf6432f92c5d0e51021d167",
       "max": 10.0,
       "min": 0.0,
       "orientation": "horizontal",
       "style": "IPY_MODEL_1aa9c53dc14a453b9ea113d04dced320",
       "tabbable": null,
       "tooltip": null,
       "value": 10.0
      }
     },
     "e58e3456c2d0430ebca517d9096f87ea": {
      "model_module": "@jupyter-widgets/controls",
      "model_module_version": "2.0.0",
      "model_name": "HTMLModel",
      "state": {
       "_dom_classes": [],
       "_model_module": "@jupyter-widgets/controls",
       "_model_module_version": "2.0.0",
       "_model_name": "HTMLModel",
       "_view_count": null,
       "_view_module": "@jupyter-widgets/controls",
       "_view_module_version": "2.0.0",
       "_view_name": "HTMLView",
       "description": "",
       "description_allow_html": false,
       "layout": "IPY_MODEL_bb10ae9ea48e44c4b492b46beb5260e9",
       "placeholder": "​",
       "style": "IPY_MODEL_2915c6e28b17448a8e2c95ae544c503a",
       "tabbable": null,
       "tooltip": null,
       "value": "Map: 100%"
      }
     },
     "ea14d2b91b294d648eeeaffba0785103": {
      "model_module": "@jupyter-widgets/base",
      "model_module_version": "2.0.0",
      "model_name": "LayoutModel",
      "state": {
       "_model_module": "@jupyter-widgets/base",
       "_model_module_version": "2.0.0",
       "_model_name": "LayoutModel",
       "_view_count": null,
       "_view_module": "@jupyter-widgets/base",
       "_view_module_version": "2.0.0",
       "_view_name": "LayoutView",
       "align_content": null,
       "align_items": null,
       "align_self": null,
       "border_bottom": null,
       "border_left": null,
       "border_right": null,
       "border_top": null,
       "bottom": null,
       "display": null,
       "flex": null,
       "flex_flow": null,
       "grid_area": null,
       "grid_auto_columns": null,
       "grid_auto_flow": null,
       "grid_auto_rows": null,
       "grid_column": null,
       "grid_gap": null,
       "grid_row": null,
       "grid_template_areas": null,
       "grid_template_columns": null,
       "grid_template_rows": null,
       "height": null,
       "justify_content": null,
       "justify_items": null,
       "left": null,
       "margin": null,
       "max_height": null,
       "max_width": null,
       "min_height": null,
       "min_width": null,
       "object_fit": null,
       "object_position": null,
       "order": null,
       "overflow": null,
       "padding": null,
       "right": null,
       "top": null,
       "visibility": null,
       "width": null
      }
     },
     "ea3d760bb0eb4eac8548240e59f78ffe": {
      "model_module": "@jupyter-widgets/controls",
      "model_module_version": "2.0.0",
      "model_name": "HBoxModel",
      "state": {
       "_dom_classes": [],
       "_model_module": "@jupyter-widgets/controls",
       "_model_module_version": "2.0.0",
       "_model_name": "HBoxModel",
       "_view_count": null,
       "_view_module": "@jupyter-widgets/controls",
       "_view_module_version": "2.0.0",
       "_view_name": "HBoxView",
       "box_style": "",
       "children": [
        "IPY_MODEL_e0011a3a415f4e7694c288af7c956e1b",
        "IPY_MODEL_b460e4a04f0248aab4e287a65bb5bec9",
        "IPY_MODEL_b7a64f063b30461290b30912ef6082d6"
       ],
       "layout": "IPY_MODEL_ec1b6d7525f740f68cf37db8682ce955",
       "tabbable": null,
       "tooltip": null
      }
     },
     "eb6789fab3f04493913ff84e68a708c5": {
      "model_module": "@jupyter-widgets/controls",
      "model_module_version": "2.0.0",
      "model_name": "HTMLStyleModel",
      "state": {
       "_model_module": "@jupyter-widgets/controls",
       "_model_module_version": "2.0.0",
       "_model_name": "HTMLStyleModel",
       "_view_count": null,
       "_view_module": "@jupyter-widgets/base",
       "_view_module_version": "2.0.0",
       "_view_name": "StyleView",
       "background": null,
       "description_width": "",
       "font_size": null,
       "text_color": null
      }
     },
     "ec1b6d7525f740f68cf37db8682ce955": {
      "model_module": "@jupyter-widgets/base",
      "model_module_version": "2.0.0",
      "model_name": "LayoutModel",
      "state": {
       "_model_module": "@jupyter-widgets/base",
       "_model_module_version": "2.0.0",
       "_model_name": "LayoutModel",
       "_view_count": null,
       "_view_module": "@jupyter-widgets/base",
       "_view_module_version": "2.0.0",
       "_view_name": "LayoutView",
       "align_content": null,
       "align_items": null,
       "align_self": null,
       "border_bottom": null,
       "border_left": null,
       "border_right": null,
       "border_top": null,
       "bottom": null,
       "display": null,
       "flex": null,
       "flex_flow": null,
       "grid_area": null,
       "grid_auto_columns": null,
       "grid_auto_flow": null,
       "grid_auto_rows": null,
       "grid_column": null,
       "grid_gap": null,
       "grid_row": null,
       "grid_template_areas": null,
       "grid_template_columns": null,
       "grid_template_rows": null,
       "height": null,
       "justify_content": null,
       "justify_items": null,
       "left": null,
       "margin": null,
       "max_height": null,
       "max_width": null,
       "min_height": null,
       "min_width": null,
       "object_fit": null,
       "object_position": null,
       "order": null,
       "overflow": null,
       "padding": null,
       "right": null,
       "top": null,
       "visibility": null,
       "width": null
      }
     },
     "f227cee1f2424f4ea8b46bf78eb15a3a": {
      "model_module": "@jupyter-widgets/base",
      "model_module_version": "2.0.0",
      "model_name": "LayoutModel",
      "state": {
       "_model_module": "@jupyter-widgets/base",
       "_model_module_version": "2.0.0",
       "_model_name": "LayoutModel",
       "_view_count": null,
       "_view_module": "@jupyter-widgets/base",
       "_view_module_version": "2.0.0",
       "_view_name": "LayoutView",
       "align_content": null,
       "align_items": null,
       "align_self": null,
       "border_bottom": null,
       "border_left": null,
       "border_right": null,
       "border_top": null,
       "bottom": null,
       "display": null,
       "flex": null,
       "flex_flow": null,
       "grid_area": null,
       "grid_auto_columns": null,
       "grid_auto_flow": null,
       "grid_auto_rows": null,
       "grid_column": null,
       "grid_gap": null,
       "grid_row": null,
       "grid_template_areas": null,
       "grid_template_columns": null,
       "grid_template_rows": null,
       "height": null,
       "justify_content": null,
       "justify_items": null,
       "left": null,
       "margin": null,
       "max_height": null,
       "max_width": null,
       "min_height": null,
       "min_width": null,
       "object_fit": null,
       "object_position": null,
       "order": null,
       "overflow": null,
       "padding": null,
       "right": null,
       "top": null,
       "visibility": null,
       "width": null
      }
     },
     "f4f7c9258c1c46efa94d5bcb43ae76a8": {
      "model_module": "@jupyter-widgets/base",
      "model_module_version": "2.0.0",
      "model_name": "LayoutModel",
      "state": {
       "_model_module": "@jupyter-widgets/base",
       "_model_module_version": "2.0.0",
       "_model_name": "LayoutModel",
       "_view_count": null,
       "_view_module": "@jupyter-widgets/base",
       "_view_module_version": "2.0.0",
       "_view_name": "LayoutView",
       "align_content": null,
       "align_items": null,
       "align_self": null,
       "border_bottom": null,
       "border_left": null,
       "border_right": null,
       "border_top": null,
       "bottom": null,
       "display": null,
       "flex": null,
       "flex_flow": null,
       "grid_area": null,
       "grid_auto_columns": null,
       "grid_auto_flow": null,
       "grid_auto_rows": null,
       "grid_column": null,
       "grid_gap": null,
       "grid_row": null,
       "grid_template_areas": null,
       "grid_template_columns": null,
       "grid_template_rows": null,
       "height": null,
       "justify_content": null,
       "justify_items": null,
       "left": null,
       "margin": null,
       "max_height": null,
       "max_width": null,
       "min_height": null,
       "min_width": null,
       "object_fit": null,
       "object_position": null,
       "order": null,
       "overflow": null,
       "padding": null,
       "right": null,
       "top": null,
       "visibility": null,
       "width": null
      }
     },
     "f5fc2b17c4904adf9edda96aa9969f2f": {
      "model_module": "@jupyter-widgets/base",
      "model_module_version": "2.0.0",
      "model_name": "LayoutModel",
      "state": {
       "_model_module": "@jupyter-widgets/base",
       "_model_module_version": "2.0.0",
       "_model_name": "LayoutModel",
       "_view_count": null,
       "_view_module": "@jupyter-widgets/base",
       "_view_module_version": "2.0.0",
       "_view_name": "LayoutView",
       "align_content": null,
       "align_items": null,
       "align_self": null,
       "border_bottom": null,
       "border_left": null,
       "border_right": null,
       "border_top": null,
       "bottom": null,
       "display": null,
       "flex": null,
       "flex_flow": null,
       "grid_area": null,
       "grid_auto_columns": null,
       "grid_auto_flow": null,
       "grid_auto_rows": null,
       "grid_column": null,
       "grid_gap": null,
       "grid_row": null,
       "grid_template_areas": null,
       "grid_template_columns": null,
       "grid_template_rows": null,
       "height": null,
       "justify_content": null,
       "justify_items": null,
       "left": null,
       "margin": null,
       "max_height": null,
       "max_width": null,
       "min_height": null,
       "min_width": null,
       "object_fit": null,
       "object_position": null,
       "order": null,
       "overflow": null,
       "padding": null,
       "right": null,
       "top": null,
       "visibility": null,
       "width": null
      }
     }
    },
    "version_major": 2,
    "version_minor": 0
   }
  }
 },
 "nbformat": 4,
 "nbformat_minor": 5
}
